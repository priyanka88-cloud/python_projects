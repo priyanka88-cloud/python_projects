{
  "nbformat": 4,
  "nbformat_minor": 0,
  "metadata": {
    "colab": {
      "provenance": []
    },
    "kernelspec": {
      "name": "python3",
      "display_name": "Python 3"
    },
    "language_info": {
      "name": "python"
    }
  },
  "cells": [
    {
      "cell_type": "code",
      "execution_count": 12,
      "metadata": {
        "colab": {
          "base_uri": "https://localhost:8080/"
        },
        "id": "zfaepHu4qpGp",
        "outputId": "7d948cfb-80e2-49df-9c2b-5e54087ae3ba"
      },
      "outputs": [
        {
          "output_type": "stream",
          "name": "stdout",
          "text": [
            "which operation you want to perform\n",
            "enter your choice2\n",
            "enter first number8\n",
            "enter second number2\n",
            "6\n"
          ]
        }
      ],
      "source": [
        "#calculator program to ask user which operation to perform +,-,*,/ and based on input execute that operation\n",
        "print(\"which operation you want to perform\")\n",
        "number=int(input(\"enter your choice\"))\n",
        "number1=int(input(\"enter first number\"))\n",
        "number2=int(input(\"enter second number\"))\n",
        "if number==1:\n",
        "    print(number1+number2)\n",
        "\n",
        "elif number==2:\n",
        "    print(number1-number2)\n",
        "\n",
        "elif number==3:\n",
        "    print(number1*number2)\n",
        "\n",
        "elif number==4:\n",
        "    print(number1/number2)\n",
        "else:\n",
        "    print(\"invalid option\")\n",
        "\n"
      ]
    },
    {
      "cell_type": "code",
      "source": [],
      "metadata": {
        "id": "NvKQLMFjsUtA"
      },
      "execution_count": 12,
      "outputs": []
    }
  ]
}
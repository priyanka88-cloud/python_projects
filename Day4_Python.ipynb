{
  "nbformat": 4,
  "nbformat_minor": 0,
  "metadata": {
    "colab": {
      "private_outputs": true,
      "provenance": []
    },
    "kernelspec": {
      "name": "python3",
      "display_name": "Python 3"
    },
    "language_info": {
      "name": "python"
    }
  },
  "cells": [
    {
      "cell_type": "code",
      "execution_count": null,
      "metadata": {
        "id": "Lvwz0LmACKW0"
      },
      "outputs": [],
      "source": [
        "#library or package named seaborn\n",
        "#https://seaborn.pydata.org/api.html\n",
        "import seaborn #collection of additional class, functions, data to improve data analysis"
      ]
    },
    {
      "cell_type": "code",
      "source": [
        "#data - variable\n",
        "#seaborn - library\n",
        "#load_dataset - function\n",
        "#tips - parameter/ argument / input\n",
        "\n",
        "#obj = Student()\n",
        "#obj.get_info(32, 'abc')\n",
        "\n",
        "data = seaborn.load_dataset('tips')"
      ],
      "metadata": {
        "id": "axapL2WIDGzE"
      },
      "execution_count": null,
      "outputs": []
    },
    {
      "cell_type": "code",
      "source": [
        "'''\n",
        "anagrams: https://psych252.github.io/\n",
        "anscombe: https://en.wikipedia.org/wiki/Anscombe%27s_quartet\n",
        "attention: https://psych252.github.io/\n",
        "car_crashes: https://www.kaggle.com/fivethirtyeight/fivethirtyeight-bad-drivers-dataset\n",
        "diamonds: https://ggplot2.tidyverse.org/reference/diamonds.html\n",
        "dots: https://shadlenlab.columbia.edu/resources/RoitmanDataCode.html\n",
        "dowjones: https://fred.stlouisfed.org/series/M1109BUSM293NNBR\n",
        "exercise: https://psych252.github.io\n",
        "fmri: https://github.com/mwaskom/Waskom_CerebCortex_2017\n",
        "geyser: https://stat.ethz.ch/R-manual/R-devel/library/datasets/html/faithful.html\n",
        "glue: https://gluebenchmark.com/leaderboard\n",
        "healthexp: https://ourworldindata.org/grapher/life-expectancy-vs-health-expenditure\n",
        "iris: https://archive.ics.uci.edu/ml/datasets/iris\n",
        "mpg: https://data.world/dataman-udit/cars-data\n",
        "penguins: https://github.com/allisonhorst/penguins\n",
        "planets: https://exoplanets.nasa.gov/exoplanet-catalog/\n",
        "seaice: https://nsidc.org/arcticseaicenews/sea-ice-tools/\n",
        "taxis: https://www1.nyc.gov/site/tlc/about/tlc-trip-record-data.page\n",
        "tips: https://rdrr.io/cran/reshape2/man/tips.html\n",
        "titanic: https://www.kaggle.com/c/titanic/data\n",
        "'''"
      ],
      "metadata": {
        "id": "s25GNuJiFBv3"
      },
      "execution_count": null,
      "outputs": []
    },
    {
      "cell_type": "code",
      "source": [
        "?seaborn.load_dataset"
      ],
      "metadata": {
        "id": "LlXRvFW7EROy"
      },
      "execution_count": null,
      "outputs": []
    },
    {
      "cell_type": "code",
      "source": [
        "data"
      ],
      "metadata": {
        "id": "193JiNftDWoA"
      },
      "execution_count": null,
      "outputs": []
    },
    {
      "cell_type": "code",
      "source": [
        "#store data table named iris in a variable named data_iris\n",
        "#hint data = seaborn.load_dataset('tips')"
      ],
      "metadata": {
        "id": "-AQbftPtDXJ_"
      },
      "execution_count": null,
      "outputs": []
    },
    {
      "cell_type": "code",
      "source": [
        "data_iris = seaborn.load_dataset('iris')\n",
        "data_iris"
      ],
      "metadata": {
        "id": "gab9Vt7iHT3W"
      },
      "execution_count": null,
      "outputs": []
    },
    {
      "cell_type": "code",
      "source": [
        "data"
      ],
      "metadata": {
        "id": "mU_zz00JHoOF"
      },
      "execution_count": null,
      "outputs": []
    },
    {
      "cell_type": "code",
      "source": [
        "type(data) # pandas.core.frame.DataFrame - python table - rows and columns"
      ],
      "metadata": {
        "id": "Y4e5rCH3Ho2B"
      },
      "execution_count": null,
      "outputs": []
    },
    {
      "cell_type": "code",
      "source": [
        "data.shape # rows = 244 and columns as 7"
      ],
      "metadata": {
        "id": "uw9Rf1-xHu3-"
      },
      "execution_count": null,
      "outputs": []
    },
    {
      "cell_type": "code",
      "source": [
        "data.columns"
      ],
      "metadata": {
        "id": "aokh98RGH3qD"
      },
      "execution_count": null,
      "outputs": []
    },
    {
      "cell_type": "code",
      "source": [
        "data.info() #data types and non null count"
      ],
      "metadata": {
        "id": "-YmguiisIG-Y"
      },
      "execution_count": null,
      "outputs": []
    },
    {
      "cell_type": "code",
      "source": [
        "'''\n",
        "count - number of data points available\n",
        "mean - average (sum of all data points / number of data points) - central tendency / measure of central tendency / sarasari\n",
        "std - standard deviation (square root of variance) - dispersion (how far from the mean people?) 10 +- 2 = (10-2, 10+2) = people age is between(8 - 12)\n",
        "#66% of people lie in range (mean - std_dev, mean + std_dev)\n",
        "min - minimum value (lowest value)\n",
        "25% - first quartile (25 percentile) - (25% of people are below this value)\n",
        "50% - median (50 percentile) - (50% of people are below this value)\n",
        "75% - third quartile (75 percentile) - (75% of people are below this value, 25% are above)\n",
        "max - maximum value (highest value)\n",
        "'''\n",
        "data.describe() #statistical summary"
      ],
      "metadata": {
        "id": "OvxLB1z-J0rB"
      },
      "execution_count": null,
      "outputs": []
    },
    {
      "cell_type": "code",
      "source": [
        "#NaN - missing ; not a number\n",
        "data.describe(include='all')"
      ],
      "metadata": {
        "id": "OeA9oFRBNaia"
      },
      "execution_count": null,
      "outputs": []
    },
    {
      "cell_type": "code",
      "source": [
        "data['day'] #get a particular column of the table"
      ],
      "metadata": {
        "id": "p-HWNbTtJ3tB"
      },
      "execution_count": null,
      "outputs": []
    },
    {
      "cell_type": "code",
      "source": [
        "data['day'].value_counts() #only possible for non-numeric/ ordinal / binary but not recommended for numeric/scale"
      ],
      "metadata": {
        "id": "TrqMW3CLOgkv"
      },
      "execution_count": null,
      "outputs": []
    },
    {
      "cell_type": "code",
      "source": [
        "data['total_expense'] = data['total_bill'] + data['tip'] #new column created with name total_expense by adding columns total_bill and tip"
      ],
      "metadata": {
        "id": "cqr3SvWhOmnb"
      },
      "execution_count": null,
      "outputs": []
    },
    {
      "cell_type": "code",
      "source": [
        "data.head() #displaying the first five rows of the table"
      ],
      "metadata": {
        "id": "STmHm5R_PJfV"
      },
      "execution_count": null,
      "outputs": []
    },
    {
      "cell_type": "code",
      "source": [
        "data.iloc[0] #iloc - location and it takes row index/ row number"
      ],
      "metadata": {
        "id": "-OXZxRvlPK5n"
      },
      "execution_count": null,
      "outputs": []
    },
    {
      "cell_type": "code",
      "source": [
        "data.iloc[1]"
      ],
      "metadata": {
        "id": "Ar1R3HF0QPEa"
      },
      "execution_count": null,
      "outputs": []
    },
    {
      "cell_type": "code",
      "source": [
        "data.iloc[0][0] #data.iloc[row num][col num]"
      ],
      "metadata": {
        "id": "n_7AvHLzQXHv"
      },
      "execution_count": null,
      "outputs": []
    },
    {
      "cell_type": "code",
      "source": [
        "data.iloc[0][4] # row number 0 and column 4"
      ],
      "metadata": {
        "id": "Q9uqAKqJSveB"
      },
      "execution_count": null,
      "outputs": []
    },
    {
      "cell_type": "code",
      "source": [
        "data.iloc[0:4] #start at 0 and stop at 4 (4 not included) - 0,1,2,3"
      ],
      "metadata": {
        "id": "zXnBDL_hQZuj"
      },
      "execution_count": null,
      "outputs": []
    },
    {
      "cell_type": "code",
      "source": [
        "data.iloc[0:4 , 6] #start at 0 and stop at 4 (4 not included) - 0,1,2,3 and column number 6\n",
        "#data.iloc[row num start : row num stop , col num]"
      ],
      "metadata": {
        "id": "5umwju4LQiz2"
      },
      "execution_count": null,
      "outputs": []
    },
    {
      "cell_type": "code",
      "source": [
        "data.iloc[0 : 4, 6 : 9]  #start at 0 and stop at 4 (4 not included) - 0,1,2,3 and column number start at 6 and stop at 9 (9 not included)\n",
        "#data.iloc[row num start : row num stop , col num start : col num stop]"
      ],
      "metadata": {
        "id": "ZLZhYISYRC-2"
      },
      "execution_count": null,
      "outputs": []
    },
    {
      "cell_type": "code",
      "source": [
        "data.iloc[ : , 6 : 9] #all rows and column number start at 6 and stop at 9 (9 not included)\n",
        "#data.iloc[:, 6:9] # row num start is 0 and row num stop is last one"
      ],
      "metadata": {
        "id": "uJ2XiQKLR43q"
      },
      "execution_count": null,
      "outputs": []
    },
    {
      "cell_type": "code",
      "source": [
        "#get rows 200-220\n",
        "#column 3-5\n",
        "data.iloc[200:221, 3:6]"
      ],
      "metadata": {
        "id": "j2fuSUXQSo_n"
      },
      "execution_count": null,
      "outputs": []
    },
    {
      "cell_type": "code",
      "source": [
        "#data[(condition)]\n",
        "\n",
        "data[(data['total_bill'] > 5)] #get all rows where total_bill is greater than 5"
      ],
      "metadata": {
        "id": "fQJZc268Tezu"
      },
      "execution_count": null,
      "outputs": []
    },
    {
      "cell_type": "code",
      "source": [
        "data[(data['total_bill'] < 5)]"
      ],
      "metadata": {
        "id": "sxQX42jLT8rb"
      },
      "execution_count": null,
      "outputs": []
    },
    {
      "cell_type": "code",
      "source": [
        "data[(data['total_bill'] > 20) & (data['day'] == 'Sun')] #total bill greater than 20 on sunday"
      ],
      "metadata": {
        "id": "jY9fo4IFUEZx"
      },
      "execution_count": null,
      "outputs": []
    },
    {
      "cell_type": "code",
      "source": [
        "data[(data['total_bill'] > 20) | (data['day'] == 'Thurs')] #either total bill greater than 20 or day thursday"
      ],
      "metadata": {
        "id": "cPJmdVjbUTGy"
      },
      "execution_count": null,
      "outputs": []
    },
    {
      "cell_type": "code",
      "source": [
        "data['sex'][(data['total_bill'] > 20) | (data['day'] == 'Thurs')] #only get sex column where condition is satisfied\n",
        "#data['col name'] [(condition 1) OR (condition 2)]"
      ],
      "metadata": {
        "id": "jJ7Xrdc4UjdJ"
      },
      "execution_count": null,
      "outputs": []
    },
    {
      "cell_type": "code",
      "source": [
        "ans = data['sex'][(data['total_bill'] > 20) | (data['day'] == 'Thurs')]\n",
        "ans.iloc[0:20]\n",
        "\n",
        "#data['sex'][(data['total_bill'] > 20) | (data['day'] == 'Thurs')].iloc[0:20]"
      ],
      "metadata": {
        "id": "U6RmHZRsVYMR"
      },
      "execution_count": null,
      "outputs": []
    },
    {
      "cell_type": "code",
      "source": [
        "data[['sex', 'smoker']][(data['total_bill'] > 20) | (data['day'] == 'Thurs')]#only get sex , smoker column where condition is satisfied"
      ],
      "metadata": {
        "id": "HheiPTPWUmh_"
      },
      "execution_count": null,
      "outputs": []
    },
    {
      "cell_type": "code",
      "source": [
        "data['sex'] #pandas series and only one col"
      ],
      "metadata": {
        "id": "CIkqsRliaeIJ"
      },
      "execution_count": null,
      "outputs": []
    },
    {
      "cell_type": "code",
      "source": [
        "data['day','time'] #ERROR"
      ],
      "metadata": {
        "id": "mhfQfVaWagBk"
      },
      "execution_count": null,
      "outputs": []
    },
    {
      "cell_type": "code",
      "source": [
        "data[['day', 'time']] #dataframe"
      ],
      "metadata": {
        "id": "-hc9JJFGamgm"
      },
      "execution_count": null,
      "outputs": []
    },
    {
      "cell_type": "code",
      "source": [
        "#AGGREGATE FUNCTIONS\n",
        "#data.groupby('categorical column name').agg(\n",
        "#    {\n",
        "#        'numerical column name' : ['aggregate function name'] (options are 'mean', 'min', 'max', 'std', 'count', 'sum')\n",
        "#    }\n",
        "#)\n",
        "\n",
        "data.groupby('sex').agg({\n",
        "    'total_bill' : ['mean', 'min', 'max', 'std', 'count', 'sum'],\n",
        "    'tip' : 'mean',\n",
        "    'size' : 'mean'\n",
        "})"
      ],
      "metadata": {
        "id": "Js4SA3W0arvL"
      },
      "execution_count": null,
      "outputs": []
    },
    {
      "cell_type": "code",
      "source": [
        "data.groupby('smoker').agg({\n",
        "    'total_bill' : ['mean', 'min', 'max', 'std', 'count', 'sum'],\n",
        "    'tip' : 'mean',\n",
        "    'size' : 'mean'\n",
        "})"
      ],
      "metadata": {
        "id": "wUpaDDCebz8x"
      },
      "execution_count": null,
      "outputs": []
    },
    {
      "cell_type": "code",
      "source": [
        "import pandas #library\n",
        "#pandas.pivot_table(dataframe name, index = 'categorical col', columns = 'cat col', values = 'numeric col', aggfunc = 'agg function')\n",
        "pandas.pivot_table(data, index = 'day', columns = 'sex', values = 'total_bill', aggfunc = 'mean')\n",
        "#"
      ],
      "metadata": {
        "id": "C0S4LGkKcA8-"
      },
      "execution_count": null,
      "outputs": []
    },
    {
      "cell_type": "code",
      "source": [
        "?pandas.pivot_table"
      ],
      "metadata": {
        "id": "ygipDr3wefv8"
      },
      "execution_count": null,
      "outputs": []
    },
    {
      "cell_type": "code",
      "source": [
        "pandas.pivot_table(data, index = 'day', aggfunc = 'count')\n"
      ],
      "metadata": {
        "id": "vi6R9uPMelKY"
      },
      "execution_count": null,
      "outputs": []
    },
    {
      "cell_type": "code",
      "source": [
        "pandas.pivot_table(data, index = 'day', columns = 'sex', values = 'total_bill', aggfunc = 'mean')"
      ],
      "metadata": {
        "id": "EwzJ2QGcedm3"
      },
      "execution_count": null,
      "outputs": []
    },
    {
      "cell_type": "code",
      "source": [
        "pandas.pivot_table(data, index = 'day', columns = 'time', values = 'total_bill', aggfunc = 'mean')"
      ],
      "metadata": {
        "id": "Dhj0FUGdduut"
      },
      "execution_count": null,
      "outputs": []
    },
    {
      "cell_type": "code",
      "source": [
        "seaborn.relplot(data=data, x = 'total_bill', y='tip')"
      ],
      "metadata": {
        "id": "W-PL4bT5fUO9"
      },
      "execution_count": null,
      "outputs": []
    },
    {
      "cell_type": "code",
      "source": [
        "seaborn.relplot(data=data, x = 'total_bill', y='tip', hue = 'smoker')\n",
        "#seaborn.relplot(data = variable name, x ='numeric col', y='numeric col', hue = 'çategorical col')"
      ],
      "metadata": {
        "id": "IbMH__mHgOfc"
      },
      "execution_count": null,
      "outputs": []
    },
    {
      "cell_type": "code",
      "source": [
        "?seaborn.relplot"
      ],
      "metadata": {
        "id": "c4pwssUTgq0W"
      },
      "execution_count": null,
      "outputs": []
    },
    {
      "cell_type": "code",
      "source": [
        "seaborn.relplot(data=data, x = 'total_bill', y='tip', style = 'smoker')\n",
        "#seaborn.relplot(data = variable name, x ='numeric col', y='numeric col', style = 'çategorical col')"
      ],
      "metadata": {
        "id": "pd3jqm2ihCKw"
      },
      "execution_count": null,
      "outputs": []
    },
    {
      "cell_type": "markdown",
      "source": [],
      "metadata": {
        "id": "y_b6vGoNiBcF"
      }
    },
    {
      "cell_type": "code",
      "source": [
        "seaborn.set_theme(style=\"darkgrid\")\n",
        "import matplotlib.pyplot as plt"
      ],
      "metadata": {
        "id": "4kGh4-IQiCh7"
      },
      "execution_count": null,
      "outputs": []
    },
    {
      "cell_type": "code",
      "source": [
        "seaborn.relplot(data=data, x = 'total_bill', y='tip', col = 'smoker')\n",
        "plt.show()\n",
        "#seaborn.relplot(data = variable name, x ='numeric col', y='numeric col', col = 'çategorical col')"
      ],
      "metadata": {
        "id": "y6ELaK1whcdm"
      },
      "execution_count": null,
      "outputs": []
    },
    {
      "cell_type": "code",
      "source": [
        "seaborn.relplot(data=data, x = 'total_bill', y='tip', hue = 'day', style='sex', col = 'smoker')\n",
        "#seaborn.relplot(data = variable name, x ='numeric col', y='numeric col', hue='çategorical col', style='çategorical col', col = 'çategorical col')\n",
        "plt.show()"
      ],
      "metadata": {
        "id": "Xyjwo9oQinhL"
      },
      "execution_count": null,
      "outputs": []
    },
    {
      "cell_type": "code",
      "source": [
        "seaborn.relplot(data=data, x = 'total_bill', y='tip', hue = 'smoker', style='smoker', col = 'smoker')"
      ],
      "metadata": {
        "id": "0OPrBuoojK2C"
      },
      "execution_count": null,
      "outputs": []
    },
    {
      "cell_type": "code",
      "source": [
        "seaborn.relplot(data=data, x = 'total_bill', y='tip', hue = 'size')"
      ],
      "metadata": {
        "id": "zzSLOehkjVmq"
      },
      "execution_count": null,
      "outputs": []
    },
    {
      "cell_type": "code",
      "source": [
        "seaborn.relplot(data=data, x = 'total_bill', y='tip', size = 'size', sizes=[10,30,60,90,100,150])\n",
        "#seaborn.relplot(data=data, x = 'numeric col', y='numeric col', size = 'ordinal column', sizes=list of integers)"
      ],
      "metadata": {
        "id": "AdUcLVOJj0q6"
      },
      "execution_count": null,
      "outputs": []
    },
    {
      "cell_type": "code",
      "source": [
        "seaborn.relplot(data=data, x = 'total_bill', y='tip', size = 'day', hue = 'day', size_order = ['Thur', 'Fri', 'Sat', 'Sun'], sizes=[10,60,100,150])"
      ],
      "metadata": {
        "id": "dRYu2uVZk8ZN"
      },
      "execution_count": null,
      "outputs": []
    },
    {
      "cell_type": "code",
      "source": [
        "seaborn.relplot(data=data, x = 'total_bill', y='tip', size = 'day', hue = 'day', sizes=[10,60,100,150])"
      ],
      "metadata": {
        "id": "mFv00iv9l9aa"
      },
      "execution_count": null,
      "outputs": []
    },
    {
      "cell_type": "code",
      "source": [
        "import seaborn as sns #library\n",
        "import matplotlib.pyplot as plt #library\n",
        "\n",
        "# Load the iris dataset\n",
        "iris = sns.load_dataset('iris') #loading data\n",
        "\n",
        "# Create the scatter plot\n",
        "sns.relplot(data=iris, x='sepal_length', y='sepal_width', hue='species', palette='deep') #scatterplot\n",
        "\n",
        "# Add labels and title\n",
        "plt.xlabel('Sepal Length')\n",
        "plt.ylabel('Sepal Width')\n",
        "plt.title('Sepal Width vs Sepal Length')\n",
        "\n",
        "# Show the plot\n",
        "plt.show()\n"
      ],
      "metadata": {
        "id": "U0flCsB_m8sY"
      },
      "execution_count": null,
      "outputs": []
    },
    {
      "cell_type": "code",
      "source": [
        "#Time series plot\n",
        "\n",
        "#X = time / date\n",
        "#y = numeric value\n",
        "\n",
        "dowjones = seaborn.load_dataset('dowjones')\n",
        "dowjones.head()"
      ],
      "metadata": {
        "id": "mvI7I_JCoQa2"
      },
      "execution_count": null,
      "outputs": []
    },
    {
      "cell_type": "code",
      "source": [
        "seaborn.relplot(kind='line', x='Date', y='Price', data=dowjones)"
      ],
      "metadata": {
        "id": "Ah070MBZomBV"
      },
      "execution_count": null,
      "outputs": []
    },
    {
      "cell_type": "code",
      "source": [
        "fmri = seaborn.load_dataset('fmri')\n",
        "#https://github.com/mwaskom/Waskom_CerebCortex_2017\n",
        "fmri.head()"
      ],
      "metadata": {
        "id": "dNLzTn-rpSPQ"
      },
      "execution_count": null,
      "outputs": []
    },
    {
      "cell_type": "code",
      "source": [
        "seaborn.relplot(kind='line', x='timepoint', y='signal', data=fmri)"
      ],
      "metadata": {
        "id": "PIl6bEfbqLdW"
      },
      "execution_count": null,
      "outputs": []
    },
    {
      "cell_type": "code",
      "source": [
        "seaborn.relplot(kind='line', x='timepoint', y='signal', data=fmri, style='event')"
      ],
      "metadata": {
        "id": "nCDp3mAvquKe"
      },
      "execution_count": null,
      "outputs": []
    },
    {
      "cell_type": "code",
      "source": [
        "seaborn.relplot(kind='line', x='timepoint', y='signal', data=fmri, style='event', hue='region')"
      ],
      "metadata": {
        "id": "w3LEwwjlq3E_"
      },
      "execution_count": null,
      "outputs": []
    },
    {
      "cell_type": "markdown",
      "source": [
        "#Practice"
      ],
      "metadata": {
        "id": "q7ZI2TNvsB0I"
      }
    },
    {
      "cell_type": "code",
      "source": [
        "mpg = seaborn.load_dataset('mpg')\n",
        "mpg.head()"
      ],
      "metadata": {
        "id": "F9oKKKFIsD_l"
      },
      "execution_count": null,
      "outputs": []
    },
    {
      "cell_type": "code",
      "source": [
        "#understand the data\n",
        "#columns meaning\n",
        "#what research questions\n",
        "#type of columns\n",
        "#unique values in categorical columns\n",
        "#describe, value_counts, info\n",
        "#relplot\n",
        "#pivot_table\n",
        "#groupby\n",
        "#hue\n",
        "#col\n",
        "#style\n",
        "#conditions\n",
        "#iloc"
      ],
      "metadata": {
        "id": "Vf1RNXVvtAyX"
      },
      "execution_count": null,
      "outputs": []
    }
  ]
}
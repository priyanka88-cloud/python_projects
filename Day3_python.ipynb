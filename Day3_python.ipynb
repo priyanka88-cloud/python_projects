{
  "nbformat": 4,
  "nbformat_minor": 0,
  "metadata": {
    "colab": {
      "private_outputs": true,
      "provenance": []
    },
    "kernelspec": {
      "name": "python3",
      "display_name": "Python 3"
    },
    "language_info": {
      "name": "python"
    }
  },
  "cells": [
    {
      "cell_type": "code",
      "execution_count": null,
      "metadata": {
        "id": "zV_uUxNG_RcG"
      },
      "outputs": [],
      "source": [
        "#len() - length of list/tuple/dict\n",
        "#print() - display\n",
        "#input() - collect data from user keyboard"
      ]
    },
    {
      "cell_type": "code",
      "source": [
        "def print_capital():\n",
        "    data = input('enter a sentence')\n",
        "    print(data.upper())\n",
        "\n",
        "\n",
        "print_capital() #calling/executing the function"
      ],
      "metadata": {
        "id": "jDH05Pr8_z1G"
      },
      "execution_count": null,
      "outputs": []
    },
    {
      "cell_type": "code",
      "source": [
        "?print_capital"
      ],
      "metadata": {
        "id": "IHMaXPisAR1Q"
      },
      "execution_count": null,
      "outputs": []
    },
    {
      "cell_type": "code",
      "source": [
        "?print"
      ],
      "metadata": {
        "id": "5XX7h985ATgF"
      },
      "execution_count": null,
      "outputs": []
    },
    {
      "cell_type": "code",
      "source": [
        "?len"
      ],
      "metadata": {
        "id": "7afNSrGeAYgm"
      },
      "execution_count": null,
      "outputs": []
    },
    {
      "cell_type": "code",
      "source": [
        "?type"
      ],
      "metadata": {
        "id": "i8yW6ww8AxvF"
      },
      "execution_count": null,
      "outputs": []
    },
    {
      "cell_type": "code",
      "source": [
        "#average\n",
        "\n",
        "def average_two_numbers(a, b = 30):\n",
        "    avg = (a + b) / 2\n",
        "    print(avg)\n",
        "\n",
        "average_two_numbers(10, 20)\n",
        "average_two_numbers(10) #second param/input is by default 30"
      ],
      "metadata": {
        "id": "6vTlLJK2BoJp"
      },
      "execution_count": null,
      "outputs": []
    },
    {
      "cell_type": "code",
      "source": [
        "'''\n",
        "  File \"<ipython-input-14-9d6924649d02>\", line 1\n",
        "    def average_three_numbers(a, b=10, c):\n",
        "                                  ^\n",
        "SyntaxError: non-default argument follows default argument\n",
        "'''\n",
        "def average_three_numbers(a, b=10, c):\n",
        "    avg = (a + b + c) / 3\n",
        "    print(avg)\n",
        "\n",
        "average_three_numbers(10, 20, 30)"
      ],
      "metadata": {
        "id": "-_L-hFA7DEkK"
      },
      "execution_count": null,
      "outputs": []
    },
    {
      "cell_type": "code",
      "source": [
        "#definition of function or defining\n",
        "#Note: indentation should be same/uniform for all lines\n",
        "def average_three_numbers(a, b=10, c=5):\n",
        "    avg = (a + b + c) / 3\n",
        "    print(avg)\n",
        "\n",
        "#execute or call a function\n",
        "average_three_numbers(10, 20, 30)\n",
        "average_three_numbers(10)\n",
        "average_three_numbers(10, 20)"
      ],
      "metadata": {
        "id": "S2gjvjF0GCWV"
      },
      "execution_count": null,
      "outputs": []
    },
    {
      "cell_type": "code",
      "source": [
        "a = 'hello'\n",
        "type(a)"
      ],
      "metadata": {
        "id": "6VDc0zaoJ-vt"
      },
      "execution_count": null,
      "outputs": []
    },
    {
      "cell_type": "code",
      "source": [
        "a = 'hello',\n",
        "type(a)"
      ],
      "metadata": {
        "id": "hughIKXCKCX5"
      },
      "execution_count": null,
      "outputs": []
    },
    {
      "cell_type": "code",
      "source": [
        "a = 'hello', 'hi'\n",
        "type(a)"
      ],
      "metadata": {
        "id": "k8cTj4b4KO7R"
      },
      "execution_count": null,
      "outputs": []
    },
    {
      "cell_type": "code",
      "source": [
        "#variable arguments / inputs / parameters as tuples\n",
        "\n",
        "def print_names(*names):\n",
        "    print(names)\n"
      ],
      "metadata": {
        "id": "sdcFE_-2GvA-"
      },
      "execution_count": null,
      "outputs": []
    },
    {
      "cell_type": "code",
      "source": [
        "print_names('aadit')\n",
        "print_names('aadit', 'anuja')\n",
        "print_names()\n",
        "print_names('aadit', 'anuja', 'indrapal')"
      ],
      "metadata": {
        "id": "MGky-4fxIduc"
      },
      "execution_count": null,
      "outputs": []
    },
    {
      "cell_type": "code",
      "source": [
        "#variable arguments but inputs is stored as a dictionary\n",
        "#definition\n",
        "def print_capital(**data):\n",
        "    for key, value in data.items():\n",
        "        print(key, value.upper())"
      ],
      "metadata": {
        "id": "z5AsBXBIJQFQ"
      },
      "execution_count": null,
      "outputs": []
    },
    {
      "cell_type": "code",
      "source": [
        "print_capital(first_number = 'raju')\n",
        "print_capital(first_number = 'raju', second_number='ravi')"
      ],
      "metadata": {
        "id": "bXjFJdDkJk0H"
      },
      "execution_count": null,
      "outputs": []
    },
    {
      "cell_type": "code",
      "source": [
        "#SET - duplicates are not allowed\n",
        "names = set('aaabbbccc')\n",
        "names #no duplicates"
      ],
      "metadata": {
        "id": "Wjtq5ujNMy4X"
      },
      "execution_count": null,
      "outputs": []
    },
    {
      "cell_type": "code",
      "source": [
        "print(names)"
      ],
      "metadata": {
        "id": "09CqauMaVupt"
      },
      "execution_count": null,
      "outputs": []
    },
    {
      "cell_type": "code",
      "source": [
        "fruits = {'apple', 'apple', 'mango', 'mango'}\n",
        "fruits #set does not allow duplicates"
      ],
      "metadata": {
        "id": "wSyZq9INNPbP"
      },
      "execution_count": null,
      "outputs": []
    },
    {
      "cell_type": "code",
      "source": [
        "fruits = ['apple', 'apple', 'mango', 'mango']\n",
        "fruits #list allows duplicates"
      ],
      "metadata": {
        "id": "4cvc2To0NhdQ"
      },
      "execution_count": null,
      "outputs": []
    },
    {
      "cell_type": "code",
      "source": [
        "set1 = set('aaabbbcccc')\n",
        "set2 = set('aaabbbcccdddeee')"
      ],
      "metadata": {
        "id": "D_n9uM3MOBwS"
      },
      "execution_count": null,
      "outputs": []
    },
    {
      "cell_type": "code",
      "source": [
        "set1 - set2 #difference between set1 and set2 means all elements present in set1 that are not present in set2"
      ],
      "metadata": {
        "id": "pf8gbrp0ONqf"
      },
      "execution_count": null,
      "outputs": []
    },
    {
      "cell_type": "code",
      "source": [
        "set1 | set2 #OR symbol | - meaning collection of all unique elements in set1 and set2 (UNION)"
      ],
      "metadata": {
        "id": "EunPN0jLOUJs"
      },
      "execution_count": null,
      "outputs": []
    },
    {
      "cell_type": "code",
      "source": [
        "set1 & set2 #AND symbol & - meaning common elements in set1 and set2 (INTERSECTION)"
      ],
      "metadata": {
        "id": "PJwVojs7OgSg"
      },
      "execution_count": null,
      "outputs": []
    },
    {
      "cell_type": "code",
      "source": [
        "set2 - set1 #difference between set2 and set1 means all elements present in set2 that are not present in set1"
      ],
      "metadata": {
        "id": "83ci3QrnOltC"
      },
      "execution_count": null,
      "outputs": []
    },
    {
      "cell_type": "code",
      "source": [
        "#dictionary constructor\n",
        "dict(name = 'raju')"
      ],
      "metadata": {
        "id": "Q_NL2OMUUc2g"
      },
      "execution_count": null,
      "outputs": []
    },
    {
      "cell_type": "code",
      "source": [
        "dict(age = 25)"
      ],
      "metadata": {
        "id": "549BN5mfUnlp"
      },
      "execution_count": null,
      "outputs": []
    },
    {
      "cell_type": "markdown",
      "source": [
        "#List comprehensions"
      ],
      "metadata": {
        "id": "YlGG3_-ORNgs"
      }
    },
    {
      "cell_type": "code",
      "source": [
        "list(range(10))"
      ],
      "metadata": {
        "id": "qvG1Jxa9RPQs"
      },
      "execution_count": null,
      "outputs": []
    },
    {
      "cell_type": "code",
      "source": [
        "#remainder\n",
        "0 % 5"
      ],
      "metadata": {
        "id": "jUtdYgYbS7Xl"
      },
      "execution_count": null,
      "outputs": []
    },
    {
      "cell_type": "code",
      "source": [
        "i = 1\n",
        "if i == 0:\n",
        "    print('i is zero')"
      ],
      "metadata": {
        "id": "U92Jt49-TbNF"
      },
      "execution_count": null,
      "outputs": []
    },
    {
      "cell_type": "code",
      "source": [
        "for i in range(10): #condition so i is going from 0 to 9 -> [0, 1, 2, 3, 4, 5, 6, 7, 8, 9]\n",
        "    if i % 5 == 0: #is i divided by 5 giving remainder as 0\n",
        "        continue     #skip execution and go back to the loop condition for the next iteration\n",
        "    print(i)  #did not print 0 and 5"
      ],
      "metadata": {
        "id": "iXAupIZJRYXe"
      },
      "execution_count": null,
      "outputs": []
    },
    {
      "cell_type": "code",
      "source": [
        "for i in range(10): #loop condition\n",
        "    if i % 5 != 0:\n",
        "        break     #breaking the loop\n",
        "    print(i)  #did not print 0 and 5"
      ],
      "metadata": {
        "id": "HAyH5afmSQ2m"
      },
      "execution_count": null,
      "outputs": []
    },
    {
      "cell_type": "code",
      "source": [
        "#take input from user and if user enter 0 then stop or else keep taking input from user\n",
        "#hint: use break"
      ],
      "metadata": {
        "id": "a7EELpbfUDx3"
      },
      "execution_count": null,
      "outputs": []
    },
    {
      "cell_type": "code",
      "source": [
        "import random"
      ],
      "metadata": {
        "id": "i0eB7lQKWIAQ"
      },
      "execution_count": null,
      "outputs": []
    },
    {
      "cell_type": "code",
      "source": [
        "random.choice(['rock', 'paper', 'scissors'])"
      ],
      "metadata": {
        "id": "4kXbFsAXWTjs"
      },
      "execution_count": null,
      "outputs": []
    },
    {
      "cell_type": "code",
      "source": [
        "#take from user an input either rock, paper, scissor or 0\n",
        "#if user enters any other input then tell to try again\n",
        "#if user enters 0 then exit\n",
        "#if user enters any one of rock, paper, scissor then take random input from computer\n",
        "#and play rock-paper-scissor game (rock - paper : paper wins) (rock and scissor - rock wins) (paper and scissor - scissor wins)\n",
        "#hint: for infinite loop use while True\n",
        "#hint: if user enters 0 then break\n",
        "#hint: if elif else (to create the game)"
      ],
      "metadata": {
        "id": "o2GuZnPBWgEq"
      },
      "execution_count": null,
      "outputs": []
    },
    {
      "cell_type": "code",
      "source": [
        "#infinite loop\n",
        "while True:\n",
        "    data = input('enter a number or enter 0 to exit')\n",
        "    if data == '0':\n",
        "        break"
      ],
      "metadata": {
        "id": "fEEWUML5XRTS"
      },
      "execution_count": null,
      "outputs": []
    },
    {
      "cell_type": "code",
      "source": [
        "'''\n",
        "Quiz\n",
        "\n",
        "take five questions each has two options\n",
        "user will answer correctly then give +1 display a message you are right\n",
        "user will answer incoorectly then give 0 display a message you chose this option but correct was this option\n",
        "after five questions are over ask user try again or exit (display the total marks obtained in quiz),\n",
        "invalid input ask (the try again or exit) once more\n",
        "\n",
        "hint: if-else-if , break, while loop, operators (==, !=), string formatting\n",
        "'''"
      ],
      "metadata": {
        "id": "LadtEpZlYFQV"
      },
      "execution_count": null,
      "outputs": []
    },
    {
      "cell_type": "code",
      "source": [
        "#string formatting\n",
        "\n",
        "price = 59\n",
        "print(f\"The cost is {price} rupees\") #Note the use of f and {}"
      ],
      "metadata": {
        "id": "xL7mItpVZMf8"
      },
      "execution_count": null,
      "outputs": []
    },
    {
      "cell_type": "code",
      "source": [
        "option = 'kangaroo'\n",
        "\n",
        "print(f\"The right answer is lion but you chose answer as {option}\")"
      ],
      "metadata": {
        "id": "cEoVefC1Zlw2"
      },
      "execution_count": null,
      "outputs": []
    },
    {
      "cell_type": "code",
      "source": [
        "price = 59.8888888\n",
        "\n",
        "print(f\"The rounded answer up to two decimal places {price:.2f}\") #note use of :.2f"
      ],
      "metadata": {
        "id": "Ual6kJg7Z_6f"
      },
      "execution_count": null,
      "outputs": []
    },
    {
      "cell_type": "code",
      "source": [
        "username = 'raju'\n",
        "print(f\"The username entered was {username} but it should be {username.upper()}\")"
      ],
      "metadata": {
        "id": "tXaEEuZraftV"
      },
      "execution_count": null,
      "outputs": []
    },
    {
      "cell_type": "code",
      "source": [
        "'''\n",
        "Currency conversion\n",
        "\n",
        "You ask the user to choose from one option for source and destination 'euro', 'dollar', 'rupee'\n",
        "then ask user to enter quantity in numbers\n",
        "\n",
        "ex- dollar to rupee and 10\n",
        "so 10dollars is 830 rupees\n",
        "find from internet the conversion formula\n",
        "\n",
        "prevent invalid inputs, allow user to continue till exit\n",
        "'''"
      ],
      "metadata": {
        "id": "_Q8WFSaIbX93"
      },
      "execution_count": null,
      "outputs": []
    },
    {
      "cell_type": "markdown",
      "source": [
        "#Scope"
      ],
      "metadata": {
        "id": "RUCnUjBphXMW"
      }
    },
    {
      "cell_type": "code",
      "source": [
        "name = 'ravi' #accessible even inside the function and outside\n",
        "\n",
        "def print_name():\n",
        "    print('inside function', name)\n",
        "\n",
        "print_name()\n",
        "print('outside function', name)"
      ],
      "metadata": {
        "id": "QyP7To94hOGC"
      },
      "execution_count": null,
      "outputs": []
    },
    {
      "cell_type": "code",
      "source": [
        "name = 'ravi' #accessible even inside the function and outside\n",
        "\n",
        "def print_name(name): #name is inside the function only\n",
        "    #local variable has higher priority than global variable\n",
        "    print('first print function', name)\n",
        "\n",
        "print_name('raju')\n",
        "print_name('shyam')\n",
        "print_name('gopal')\n",
        "\n",
        "print('second print function', name)"
      ],
      "metadata": {
        "id": "L14baLyFhpkl"
      },
      "execution_count": null,
      "outputs": []
    },
    {
      "cell_type": "code",
      "source": [
        "def print_name():\n",
        "\n",
        "    newname = 'ravi' #not available outside function\n",
        "\n",
        "    print('first print inside function', newname)\n",
        "\n",
        "print_name()\n",
        "\n",
        "print('second print outside print function', newname) #ERROR NameError: name 'newname' is not defined"
      ],
      "metadata": {
        "id": "kR0ObGnvjtD1"
      },
      "execution_count": null,
      "outputs": []
    },
    {
      "cell_type": "code",
      "source": [
        "def print_name():\n",
        "\n",
        "    global name1 #keyword global means variable name1 is available everywhere (inside and outside)\n",
        "    name1 = 'ravi' #not available outside function\n",
        "\n",
        "    print('first print inside function', name1)\n",
        "\n",
        "print_name()\n",
        "\n",
        "print('second print outside print function', name1)"
      ],
      "metadata": {
        "id": "mlist5RYkNP7"
      },
      "execution_count": null,
      "outputs": []
    },
    {
      "cell_type": "markdown",
      "source": [
        "#class and objects"
      ],
      "metadata": {
        "id": "Z7qCHydbmBt9"
      }
    },
    {
      "cell_type": "code",
      "source": [
        "a = 3\n",
        "b = 3.5\n",
        "c = 'abc'"
      ],
      "metadata": {
        "id": "MsWylJQnmJCe"
      },
      "execution_count": null,
      "outputs": []
    },
    {
      "cell_type": "code",
      "source": [
        "#custom datatypes, user defined data types\n",
        "\n",
        "# class\n",
        "\n",
        "#class Name_of_class:\n",
        "    #variables\n",
        "    #functions\n",
        "\n",
        "class Student:\n",
        "    name = 'raju'\n",
        "    age = 25\n",
        "    marks = 90"
      ],
      "metadata": {
        "id": "ec_eSTuwmTBA"
      },
      "execution_count": null,
      "outputs": []
    },
    {
      "cell_type": "code",
      "source": [
        "#objects\n",
        "\n",
        "#object_name = class_name()\n",
        "\n",
        "raju = Student()"
      ],
      "metadata": {
        "id": "eDLn3fg-mszD"
      },
      "execution_count": null,
      "outputs": []
    },
    {
      "cell_type": "code",
      "source": [
        "print(raju.name) #Note use of dot operator . -> object_name.variable_name OR object_name.fuction_name()\n",
        "print(raju.age)\n",
        "print(raju.marks)"
      ],
      "metadata": {
        "id": "7z101bNanC91"
      },
      "execution_count": null,
      "outputs": []
    },
    {
      "cell_type": "code",
      "source": [
        "class Institute:\n",
        "    name = 'Utkarshminds'\n",
        "    teacher = 'Pranav Nerurkar'\n",
        "    establishment_year = 2012\n",
        "    location = 'Borivali east'\n"
      ],
      "metadata": {
        "id": "GqitfOHin4MJ"
      },
      "execution_count": null,
      "outputs": []
    },
    {
      "cell_type": "code",
      "source": [
        "obj = Institute()\n",
        "\n",
        "print(obj.name)\n",
        "print(obj.teacher)\n",
        "print(obj.establishment_year)\n",
        "print(obj.location)"
      ],
      "metadata": {
        "id": "kPJAl2IdoGU5"
      },
      "execution_count": null,
      "outputs": []
    },
    {
      "cell_type": "code",
      "source": [
        "type(obj)"
      ],
      "metadata": {
        "id": "ZSMI5oDRodSO"
      },
      "execution_count": null,
      "outputs": []
    },
    {
      "cell_type": "code",
      "source": [
        "class Student:\n",
        "    #def __init__(self): meaning that we are creating a constructor that will execute automatically\n",
        "    #whenever object is created\n",
        "    def __init__(self, name, age, marks):\n",
        "        self.name = name\n",
        "        self.age = age\n",
        "        self.marks = marks\n",
        "\n",
        "    def print_details(self):\n",
        "        print(self.name, self.age, self.marks)"
      ],
      "metadata": {
        "id": "ajiAcHWboeUh"
      },
      "execution_count": null,
      "outputs": []
    },
    {
      "cell_type": "code",
      "source": [
        "age #variables in the class are not available outside the class so ERROR"
      ],
      "metadata": {
        "id": "twZSkQk4qdEB"
      },
      "execution_count": null,
      "outputs": []
    },
    {
      "cell_type": "code",
      "source": [
        "obj1 = Student('raju', 25, 90) #object name is obj1 is of the class Student\n",
        "obj2 = Student('ravi', 26, 95)"
      ],
      "metadata": {
        "id": "tS8fvy-Np0t7"
      },
      "execution_count": null,
      "outputs": []
    },
    {
      "cell_type": "code",
      "source": [
        "obj1.print_details()\n",
        "obj2.print_details()"
      ],
      "metadata": {
        "id": "wNoV3xoitQlu"
      },
      "execution_count": null,
      "outputs": []
    },
    {
      "cell_type": "code",
      "source": [
        "obj2.name = 'Rohan'"
      ],
      "metadata": {
        "id": "yMg7GvZoreek"
      },
      "execution_count": null,
      "outputs": []
    },
    {
      "cell_type": "code",
      "source": [
        "print(obj2.name)"
      ],
      "metadata": {
        "id": "Wz_PNo7irmTX"
      },
      "execution_count": null,
      "outputs": []
    },
    {
      "cell_type": "code",
      "source": [
        "obj3 = Student() #ERROR TypeError: __init__() missing 3 required positional arguments: 'name', 'age', 'marks'"
      ],
      "metadata": {
        "id": "n3BY6XV9rK2h"
      },
      "execution_count": null,
      "outputs": []
    },
    {
      "cell_type": "code",
      "source": [
        "obj3 = Student('anuja', 10, 99)"
      ],
      "metadata": {
        "id": "A6GGXnv5rOuF"
      },
      "execution_count": null,
      "outputs": []
    },
    {
      "cell_type": "code",
      "source": [
        "print(obj1.name)\n",
        "print(obj1.age)\n",
        "print(obj1.marks)\n",
        "print(obj2.name)\n",
        "print(obj2.age)\n",
        "print(obj2.marks)"
      ],
      "metadata": {
        "id": "cgq9K-bzqO_6"
      },
      "execution_count": null,
      "outputs": []
    },
    {
      "cell_type": "code",
      "source": [
        "obj1.name = 'Gopal'"
      ],
      "metadata": {
        "id": "a15X6b4vrVZo"
      },
      "execution_count": null,
      "outputs": []
    },
    {
      "cell_type": "code",
      "source": [
        "print(obj1.name)\n",
        "print(obj1.age)\n",
        "print(obj1.marks)"
      ],
      "metadata": {
        "id": "6bNUtCCkrYSf"
      },
      "execution_count": null,
      "outputs": []
    },
    {
      "cell_type": "code",
      "source": [
        "'''\n",
        "Create on class Student with name, age, marks\n",
        "for four students give data\n",
        "compare and find highest marks, lowest marks\n",
        "what is the average marks\n",
        "what is average age of students\n",
        "\n",
        "\n",
        "class Xyz:\n",
        "    def __init__(self):\n",
        "        pass\n",
        "\n",
        "obj = Xyz()\n",
        "'''"
      ],
      "metadata": {
        "id": "K5NQv5GxuELS"
      },
      "execution_count": null,
      "outputs": []
    },
    {
      "cell_type": "code",
      "source": [
        "while True:\n",
        "    pass"
      ],
      "metadata": {
        "id": "2VAR_vo8u8vs"
      },
      "execution_count": null,
      "outputs": []
    },
    {
      "cell_type": "code",
      "source": [
        "if True:\n",
        "    pass"
      ],
      "metadata": {
        "id": "t8IPAcYsvA05"
      },
      "execution_count": null,
      "outputs": []
    },
    {
      "cell_type": "code",
      "source": [
        "def print_name():\n",
        "    pass"
      ],
      "metadata": {
        "id": "c9TA7HdEvF3L"
      },
      "execution_count": null,
      "outputs": []
    },
    {
      "cell_type": "markdown",
      "source": [
        "#Except handling"
      ],
      "metadata": {
        "id": "UBKUCmmzvlsK"
      }
    },
    {
      "cell_type": "code",
      "source": [
        "#Case 1\n",
        "try:\n",
        "    print(y) #check for errors\n",
        "except:\n",
        "    print('error') #if error occurs execute this except\n",
        "else:\n",
        "    print('no error') #if no error occurs then do this\n",
        "finally:\n",
        "    print('finally this is over')"
      ],
      "metadata": {
        "id": "Wh1E6QtLwUow"
      },
      "execution_count": null,
      "outputs": []
    },
    {
      "cell_type": "code",
      "source": [
        "#Case 2\n",
        "y = 1\n",
        "try:\n",
        "    print(y) #check for errors\n",
        "except:\n",
        "    print('error') #if error occurs execute this except\n",
        "else:\n",
        "    print('no error') #if no error occurs then do this\n",
        "finally:\n",
        "    print('finally this is over')"
      ],
      "metadata": {
        "id": "8JXWEiBZvnQ_"
      },
      "execution_count": null,
      "outputs": []
    },
    {
      "cell_type": "code",
      "source": [
        "#take input from user a positive number and divide by 5\n",
        "# full list https://docs.python.org/3/library/exceptions.html\n",
        "\n",
        "try:\n",
        "    number = input('enter positive number')\n",
        "    print(5 / int(number))\n",
        "except ValueError:\n",
        "    print('invalid input')\n",
        "except ZeroDivisionError:\n",
        "    print('cannot divide by zero')"
      ],
      "metadata": {
        "id": "_MGB7oT8vxZR"
      },
      "execution_count": null,
      "outputs": []
    }
  ]
}
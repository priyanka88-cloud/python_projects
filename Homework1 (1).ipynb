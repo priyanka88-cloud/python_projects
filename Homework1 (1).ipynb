{
  "nbformat": 4,
  "nbformat_minor": 0,
  "metadata": {
    "colab": {
      "provenance": []
    },
    "kernelspec": {
      "name": "python3",
      "display_name": "Python 3"
    },
    "language_info": {
      "name": "python"
    }
  },
  "cells": [
    {
      "cell_type": "code",
      "execution_count": null,
      "metadata": {
        "colab": {
          "base_uri": "https://localhost:8080/"
        },
        "id": "WJ4R1A2Bx1Zz",
        "outputId": "38f001b3-270e-4713-a07a-c398b3c59062"
      },
      "outputs": [
        {
          "name": "stdout",
          "output_type": "stream",
          "text": [
            "enter the number23\n"
          ]
        },
        {
          "output_type": "execute_result",
          "data": {
            "text/plain": [
              "23"
            ]
          },
          "metadata": {},
          "execution_count": 8
        }
      ],
      "source": [
        "num=input('enter the number')\n",
        "int(num)"
      ]
    },
    {
      "cell_type": "code",
      "source": [
        "a=input('enter the number')\n",
        "if int(a)%2==0:\n",
        " print('number is even')\n",
        "else:\n",
        " print('number is odd')"
      ],
      "metadata": {
        "colab": {
          "base_uri": "https://localhost:8080/"
        },
        "id": "OUzFz1xbyB8x",
        "outputId": "dac2d8dc-da22-450a-b65e-1cb962674d28"
      },
      "execution_count": null,
      "outputs": [
        {
          "output_type": "stream",
          "name": "stdout",
          "text": [
            "enter the number23\n",
            "number is odd\n"
          ]
        }
      ]
    },
    {
      "cell_type": "code",
      "source": [
        "num=input('enter a number')\n",
        "if int(num)>50:\n",
        "  print('number is greater than 50')\n",
        "elif num==50:\n",
        "   print('number equal to 50')\n",
        "else :\n",
        "   print('number is less than 50')"
      ],
      "metadata": {
        "colab": {
          "base_uri": "https://localhost:8080/"
        },
        "id": "vFa2Gc1oyIrj",
        "outputId": "1bec78c4-0226-4a23-87b1-7be7d9ebcdc1"
      },
      "execution_count": null,
      "outputs": [
        {
          "output_type": "stream",
          "name": "stdout",
          "text": [
            "enter a number50\n",
            "number is less than 50\n"
          ]
        }
      ]
    },
    {
      "cell_type": "code",
      "source": [
        "str='aaaaaaaaaaabbbbbbbbbbcccccccccc'\n",
        "for i in range(len(str)):\n",
        "  l=str[i]\n",
        "  if i%2!=0:\n",
        "    print(l.upper())\n",
        "  else:\n",
        "    print(l.lower())\n"
      ],
      "metadata": {
        "colab": {
          "base_uri": "https://localhost:8080/"
        },
        "id": "51FZqtwL4id4",
        "outputId": "7d1c3423-13e2-454d-9928-07b6da197ad3"
      },
      "execution_count": null,
      "outputs": [
        {
          "output_type": "stream",
          "name": "stdout",
          "text": [
            "a\n",
            "A\n",
            "a\n",
            "A\n",
            "a\n",
            "A\n",
            "a\n",
            "A\n",
            "a\n",
            "A\n",
            "a\n",
            "B\n",
            "b\n",
            "B\n",
            "b\n",
            "B\n",
            "b\n",
            "B\n",
            "b\n",
            "B\n",
            "b\n",
            "C\n",
            "c\n",
            "C\n",
            "c\n",
            "C\n",
            "c\n",
            "C\n",
            "c\n",
            "C\n",
            "c\n"
          ]
        }
      ]
    },
    {
      "cell_type": "code",
      "source": [
        "names=[\"priya\",\"om\",\"sandip\",\"radha\",\"riya\",\"amol\",\"monu\",\"chinu\",\"rishi\",\"oorjeet\"]\n",
        "for i in range (len(names)):\n",
        "  j=names[i]\n",
        "  if i%2!=0:\n",
        "    print(j.upper())\n",
        "  else:\n",
        "    print(j.lower())\n",
        "\n"
      ],
      "metadata": {
        "id": "tJ0ZiH7V69fd",
        "colab": {
          "base_uri": "https://localhost:8080/"
        },
        "outputId": "0329e91b-6818-4fac-f68e-37ddcc634ef5"
      },
      "execution_count": null,
      "outputs": [
        {
          "output_type": "stream",
          "name": "stdout",
          "text": [
            "priya\n",
            "OM\n",
            "sandip\n",
            "RADHA\n",
            "riya\n",
            "AMOL\n",
            "monu\n",
            "CHINU\n",
            "rishi\n",
            "OORJEET\n"
          ]
        }
      ]
    },
    {
      "cell_type": "code",
      "source": [
        "new_names=[\"priya\",\"om\",\"sandip\",\"aditya\",\"riya\",\"amol\",\"monu\",\"chinu\",\"ash\",\"oorjeet\"]\n",
        "for i in range (len(new_names)):\n",
        "  j=new_names[i]\n",
        "  if j[0]=='a':\n",
        "    print(j.upper())\n",
        "  else:\n",
        "    print(j.lower())"
      ],
      "metadata": {
        "colab": {
          "base_uri": "https://localhost:8080/"
        },
        "id": "b9WgUGl4LSMA",
        "outputId": "02d59112-45a2-49e8-fb4c-750f2f0de896"
      },
      "execution_count": null,
      "outputs": [
        {
          "output_type": "stream",
          "name": "stdout",
          "text": [
            "priya\n",
            "om\n",
            "sandip\n",
            "ADITYA\n",
            "riya\n",
            "AMOL\n",
            "monu\n",
            "chinu\n",
            "ASH\n",
            "oorjeet\n"
          ]
        }
      ]
    },
    {
      "cell_type": "code",
      "source": [
        "25**.5"
      ],
      "metadata": {
        "colab": {
          "base_uri": "https://localhost:8080/"
        },
        "id": "MPy5t4zTRYCO",
        "outputId": "5a62e261-9bbc-4f91-96c9-b9457a871372"
      },
      "execution_count": null,
      "outputs": [
        {
          "output_type": "execute_result",
          "data": {
            "text/plain": [
              "5.0"
            ]
          },
          "metadata": {},
          "execution_count": 22
        }
      ]
    },
    {
      "cell_type": "code",
      "source": [
        "numbers=[4,6,25,36,8]\n",
        "for i in range (len(numbers)):\n",
        "  j=numbers[i]\n",
        "  numbers[i]=j**0.5\n",
        "print(\"square_root:\")\n",
        "print(numbers)"
      ],
      "metadata": {
        "colab": {
          "base_uri": "https://localhost:8080/"
        },
        "id": "Rgxpc0GQVEYN",
        "outputId": "706af3f0-c5d0-44ce-f0e1-a27c52fbc0a0"
      },
      "execution_count": null,
      "outputs": [
        {
          "output_type": "stream",
          "name": "stdout",
          "text": [
            "square_root:\n",
            "[2.0, 2.449489742783178, 5.0, 6.0, 2.8284271247461903]\n"
          ]
        }
      ]
    },
    {
      "cell_type": "code",
      "source": [],
      "metadata": {
        "id": "PBv1ptPzVHYM"
      },
      "execution_count": null,
      "outputs": []
    },
    {
      "cell_type": "code",
      "source": [],
      "metadata": {
        "id": "GARma2FoVLiN"
      },
      "execution_count": null,
      "outputs": []
    },
    {
      "cell_type": "code",
      "source": [],
      "metadata": {
        "id": "UXCDlShJVUw7"
      },
      "execution_count": null,
      "outputs": []
    },
    {
      "cell_type": "code",
      "source": [],
      "metadata": {
        "id": "U3E9e7hpVZlf"
      },
      "execution_count": null,
      "outputs": []
    }
  ]
}
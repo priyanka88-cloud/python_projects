{
  "cells": [
    {
      "cell_type": "code",
      "execution_count": null,
      "metadata": {
        "id": "8_sotew387Fh"
      },
      "outputs": [],
      "source": [
        "5+3"
      ]
    },
    {
      "cell_type": "code",
      "execution_count": null,
      "metadata": {
        "id": "Swr_XmYs9_4u"
      },
      "outputs": [],
      "source": [
        "5-2"
      ]
    },
    {
      "cell_type": "code",
      "execution_count": null,
      "metadata": {
        "id": "j-NUs-7m-ACD"
      },
      "outputs": [],
      "source": [
        "5*3"
      ]
    },
    {
      "cell_type": "code",
      "execution_count": null,
      "metadata": {
        "id": "D-q8fLns-AKd"
      },
      "outputs": [],
      "source": [
        "5/3"
      ]
    },
    {
      "cell_type": "code",
      "execution_count": null,
      "metadata": {
        "id": "wP_9jcnf-ASh"
      },
      "outputs": [],
      "source": [
        "#power of\n",
        "5**3"
      ]
    },
    {
      "cell_type": "code",
      "execution_count": null,
      "metadata": {
        "id": "3IrMID6r-Aa-"
      },
      "outputs": [],
      "source": [
        "#this is comment - integer division\n",
        "5//3"
      ]
    },
    {
      "cell_type": "code",
      "execution_count": null,
      "metadata": {
        "id": "rFxl2xHd-vyY"
      },
      "outputs": [],
      "source": [
        "'''\n",
        "this\n",
        "is\n",
        "a\n",
        "multi line comment\n",
        "'''\n",
        "type(3)\n",
        "type(3.444)\n",
        "type('abcdses')\n",
        "type(\"pranav\")"
      ]
    },
    {
      "cell_type": "code",
      "execution_count": null,
      "metadata": {
        "id": "C088N3ugBkSz"
      },
      "outputs": [],
      "source": [
        "print(type(3)) #int\n",
        "print(type(3.44)) #float\n",
        "print(type('abbbdbsdfsdf24334343@#@#$@#@#@#$@#$___---.....,,,,???')) #string"
      ]
    },
    {
      "cell_type": "code",
      "execution_count": null,
      "metadata": {
        "id": "Em0XSEE9Bo8s"
      },
      "outputs": [],
      "source": [
        "print(type(-33333))"
      ]
    },
    {
      "cell_type": "code",
      "execution_count": null,
      "metadata": {
        "id": "GHDv3wzsClGe"
      },
      "outputs": [],
      "source": [
        "print(type(sdfsdfsfsdf)) #error because written without single or double quotes"
      ]
    },
    {
      "cell_type": "code",
      "execution_count": null,
      "metadata": {
        "id": "1DeXBZhWCvcf"
      },
      "outputs": [],
      "source": [
        "print(type(True))\n",
        "print(type(False))"
      ]
    },
    {
      "cell_type": "code",
      "execution_count": null,
      "metadata": {
        "id": "o7b_3TuYEdDA"
      },
      "outputs": [],
      "source": [
        "#variables\n",
        "\n",
        "a = 3\n",
        "print(a)"
      ]
    },
    {
      "cell_type": "code",
      "execution_count": null,
      "metadata": {
        "id": "LegPe-_tEzZ8"
      },
      "outputs": [],
      "source": [
        "a = 3.5 #overwritten the old value 3 by 3.5\n",
        "print(a)"
      ]
    },
    {
      "cell_type": "code",
      "execution_count": null,
      "metadata": {
        "id": "a5Z3KZaoE1eg"
      },
      "outputs": [],
      "source": [
        "a = 'praraajjajajjaa' #overwritten the old value 3.5 by 'praraajjajajjaa'\n",
        "print(a)"
      ]
    },
    {
      "cell_type": "code",
      "execution_count": null,
      "metadata": {
        "id": "I6DVL8zvFFTu"
      },
      "outputs": [],
      "source": [
        "bbbbbb = 3\n",
        "c4444 = 3\n",
        "4ccc = 9 #variable name cannot start with numbers\n",
        "#Spyder, Ananconda, Pycharm (paid), VS Code (in our class)\n"
      ]
    },
    {
      "cell_type": "code",
      "execution_count": null,
      "metadata": {
        "id": "rnrEE4LuFe6y"
      },
      "outputs": [],
      "source": [
        "_cccc = 9"
      ]
    },
    {
      "cell_type": "code",
      "execution_count": null,
      "metadata": {
        "id": "4s-hVfafFWZM"
      },
      "outputs": [],
      "source": [
        "print(a)\n",
        "print('a')"
      ]
    },
    {
      "cell_type": "code",
      "execution_count": null,
      "metadata": {
        "id": "JWW8GVYIILQ3"
      },
      "outputs": [],
      "source": [
        "xyz=9"
      ]
    },
    {
      "cell_type": "code",
      "execution_count": null,
      "metadata": {
        "id": "qUe8lc_XH3mi"
      },
      "outputs": [],
      "source": [
        "print(xyz)"
      ]
    },
    {
      "cell_type": "code",
      "execution_count": null,
      "metadata": {
        "id": "o4yEsL3wIFI-"
      },
      "outputs": [],
      "source": [
        "a = 3\n",
        "b = 4\n",
        "print(a+b)\n",
        "print(a-b)\n",
        "print(a*b)\n",
        "print(a/b)\n",
        "print(a**b)\n",
        "print(a//b)\n",
        "print(a%b) #remainder or mod"
      ]
    },
    {
      "cell_type": "code",
      "execution_count": null,
      "metadata": {
        "id": "gL2ZrQJMI7Io"
      },
      "outputs": [],
      "source": [
        "#condition\n",
        "a = 3\n",
        "b = 4\n",
        "print(a==b) #is a equal to b\n",
        "print(a!=b) # is a not equal to b\n",
        "print(a>b) # is a greater than b\n",
        "print(a<b) #is a less than b\n",
        "print(a>=b) #is a greater or equal to b\n",
        "print(a<=b) #is a less or equal to b"
      ]
    },
    {
      "cell_type": "code",
      "execution_count": null,
      "metadata": {
        "id": "kJM52nJRKCAq"
      },
      "outputs": [],
      "source": [
        "a = 3\n",
        "b = 4\n",
        "\n",
        "if a==b: #check if a is equal to b then\n",
        "    print('a is equal to b')   #if condition is satisfied  then print\n",
        "    print('inside if')\n",
        "else: #if a is not equal to b then\n",
        "    print('a is not equal to b') #else print this\n",
        "    print('inside else')\n",
        "\n",
        "print('óutside the if else')"
      ]
    },
    {
      "cell_type": "code",
      "execution_count": null,
      "metadata": {
        "id": "kMl7ZDf3L2Tm"
      },
      "outputs": [],
      "source": [
        "a = 3\n",
        "b = 4\n",
        "\n",
        "#if - elif (else if) - else\n",
        "if a>b:\n",
        "    print('a is greater than b')\n",
        "elif a==b:\n",
        "    print('a is equal to b')\n",
        "else:\n",
        "    print('a is less than b')"
      ]
    },
    {
      "cell_type": "code",
      "execution_count": null,
      "metadata": {
        "id": "DIqXHgojMIzO"
      },
      "outputs": [],
      "source": [
        "a = 3\n",
        "b = 4\n",
        "#if - elif (else if) - else (optional)\n",
        "if a>b:\n",
        "    print('a is greater than b')\n",
        "elif a==b:\n",
        "    print('a is equal to b')\n",
        "elif a < b:\n",
        "    print('a is less than b')"
      ]
    },
    {
      "cell_type": "code",
      "execution_count": null,
      "metadata": {
        "id": "U5nrbBWQNnq0"
      },
      "outputs": [],
      "source": [
        "#odd or even\n",
        "print(25%2)\n",
        "print(24%2)"
      ]
    },
    {
      "cell_type": "code",
      "execution_count": null,
      "metadata": {
        "id": "Mdx8xzjMNumv"
      },
      "outputs": [],
      "source": [
        "a = 45\n",
        "\n",
        "if a % 2 == 0:\n",
        "    print('a is even')\n",
        "else:\n",
        "    print('a is odd')"
      ]
    },
    {
      "cell_type": "code",
      "execution_count": null,
      "metadata": {
        "id": "0CNbbOHEPnDl"
      },
      "outputs": [],
      "source": [
        "range(10) #start at 0 and go up to last but not including last value"
      ]
    },
    {
      "cell_type": "code",
      "execution_count": null,
      "metadata": {
        "id": "ghPaXyk2PfcQ"
      },
      "outputs": [],
      "source": [
        "#loops\n",
        "\n",
        "for i in range(10): #execute the lines inside the for\n",
        " print(i)"
      ]
    },
    {
      "cell_type": "code",
      "execution_count": null,
      "metadata": {
        "id": "oXrVzNjsQXs5"
      },
      "outputs": [],
      "source": [
        "for i in range(5):\n",
        "    print('hello')"
      ]
    },
    {
      "cell_type": "code",
      "execution_count": null,
      "metadata": {
        "id": "QcUdSJyKSBqD"
      },
      "outputs": [],
      "source": [
        "name = 'pranav nerurkar' #collection of alphabets\n",
        "\n",
        "for i in name: #i is starting from first position till last position\n",
        "    print(i) #execute this line"
      ]
    },
    {
      "cell_type": "code",
      "execution_count": null,
      "metadata": {
        "id": "ah4eRGqLSzPw"
      },
      "outputs": [],
      "source": [
        "name = 'pranav nerurkar' #collection of alphabets/elements\n",
        "\n",
        "for i in enumerate(name): #travel/iterate and give index/position and element\n",
        "    '''\n",
        "    python has zero indexing means it starts from zero\n",
        "    '''\n",
        "    print(i)"
      ]
    },
    {
      "cell_type": "code",
      "execution_count": null,
      "metadata": {
        "id": "P89qOHwbTWUl"
      },
      "outputs": [],
      "source": [
        "names = ['ravi', 'raju', 'shyam', 'ram'] # this is a list\n",
        "'''\n",
        "within square brackets and separated with comma\n",
        "'''\n",
        "print(names)\n",
        "print(type(names))\n",
        "for i in names:\n",
        "    print(i)\n",
        "for i in enumerate(names):\n",
        "    print(i)"
      ]
    },
    {
      "cell_type": "code",
      "execution_count": null,
      "metadata": {
        "id": "iOdyg6HSUarg"
      },
      "outputs": [],
      "source": [
        "rollnos = [1,2,3,3,4,4,4,'shyam','ram','#$#$#$',3232]\n",
        "\n",
        "print(rollnos)\n",
        "print(type(rollnos))\n",
        "for i in rollnos:\n",
        "    print(i)\n",
        "for i in enumerate(rollnos):\n",
        "    print(i)"
      ]
    },
    {
      "cell_type": "code",
      "execution_count": null,
      "metadata": {
        "id": "snRWSGczWETD"
      },
      "outputs": [],
      "source": [
        "len(rollnos)"
      ]
    },
    {
      "cell_type": "code",
      "execution_count": null,
      "metadata": {
        "id": "ofzJpcSVWGTN"
      },
      "outputs": [],
      "source": [
        "len(name)"
      ]
    },
    {
      "cell_type": "code",
      "execution_count": null,
      "metadata": {
        "id": "x7QmxXOaWWkv"
      },
      "outputs": [],
      "source": [
        "name = 'ram'\n",
        "lastname = 'kumar'\n",
        "\n",
        "name + lastname\n",
        "name + ' ' + lastname #join or concat the two or more strings"
      ]
    },
    {
      "cell_type": "code",
      "execution_count": null,
      "metadata": {
        "id": "ylC-Bn4_Wbs6"
      },
      "outputs": [],
      "source": [
        "a = 3\n",
        "float(a)"
      ]
    },
    {
      "cell_type": "code",
      "execution_count": null,
      "metadata": {
        "id": "vMh_TwvhWt52"
      },
      "outputs": [],
      "source": [
        "str(a)"
      ]
    },
    {
      "cell_type": "code",
      "execution_count": null,
      "metadata": {
        "id": "KUVI9pEGWyaV"
      },
      "outputs": [],
      "source": [
        "input('enter your name')"
      ]
    },
    {
      "cell_type": "code",
      "execution_count": null,
      "metadata": {
        "id": "fkQlgncSXbAR"
      },
      "outputs": [],
      "source": [
        "num = input('enter a number')\n",
        "int(num) #if you write pranav or 4.5 you will get error"
      ]
    },
    {
      "cell_type": "code",
      "execution_count": null,
      "metadata": {
        "id": "pOW3889FXe5S"
      },
      "outputs": [],
      "source": [
        "name = 'pranav'\n",
        "\n",
        "print(name[0])\n",
        "print(name[1])\n",
        "print(name[2])\n",
        "print(name[3])\n",
        "print(name[4])\n",
        "print(name[5])\n",
        "#"
      ]
    },
    {
      "cell_type": "code",
      "execution_count": null,
      "metadata": {
        "id": "Z9xP9uX_ewAe"
      },
      "outputs": [],
      "source": [
        "names = ['ram', 'shyam', 'gopal']\n",
        "print(names[0])\n",
        "print(names[1])\n",
        "print(names[2])\n",
        "print(names[3]) #error as no data available this position"
      ]
    },
    {
      "cell_type": "code",
      "execution_count": null,
      "metadata": {
        "id": "CFiS_c7ee7Bm"
      },
      "outputs": [],
      "source": [
        "print(names[-1])\n",
        "print(names[-2])\n",
        "print(names[-3])\n",
        "print(names[-4]) #error as no data available"
      ]
    },
    {
      "cell_type": "code",
      "execution_count": null,
      "metadata": {
        "id": "Wgqwu367fZ6Y"
      },
      "outputs": [],
      "source": [
        "name = 'pranav'\n",
        "\n",
        "print(name[-1])\n",
        "print(name[-2])\n",
        "print(name[-3])\n"
      ]
    },
    {
      "cell_type": "code",
      "execution_count": null,
      "metadata": {
        "id": "42-DZCDdf0TG"
      },
      "outputs": [],
      "source": [
        "name.upper()"
      ]
    },
    {
      "cell_type": "code",
      "execution_count": null,
      "metadata": {
        "id": "CSSRD7wof13e"
      },
      "outputs": [],
      "source": [
        "name.lower()"
      ]
    },
    {
      "cell_type": "code",
      "execution_count": null,
      "metadata": {
        "id": "oTf6KyMNf5HD"
      },
      "outputs": [],
      "source": [
        "names = ['ram', 'shyam', 'gopal']\n",
        "\n",
        "names[0:4] #slicing we start at position 0 and go up to position 4 (not included) 0,1,2,3"
      ]
    },
    {
      "cell_type": "code",
      "execution_count": null,
      "metadata": {
        "id": "p3GEfrEtgNss"
      },
      "outputs": [],
      "source": [
        "names[0:2] #0,1"
      ]
    },
    {
      "cell_type": "code",
      "execution_count": null,
      "metadata": {
        "id": "rwyGoCiVgQf9"
      },
      "outputs": [],
      "source": [
        "names[0:1]"
      ]
    },
    {
      "cell_type": "code",
      "execution_count": null,
      "metadata": {
        "id": "ET_Y7scSgS1C"
      },
      "outputs": [],
      "source": [
        "names[0:3] #display position 0,1,2"
      ]
    },
    {
      "cell_type": "code",
      "execution_count": null,
      "metadata": {
        "id": "tFj6DiP1hzzd"
      },
      "outputs": [],
      "source": [
        "list_of_numbers = [1,4,9,16,25,36,49,64,81,100]\n",
        "#display from 5-8 viz., 5,6,7,8\n",
        "#[36,49,64,81] we want to display\n",
        "print(list_of_numbers[5:9]) #5,6,7,8\n"
      ]
    },
    {
      "cell_type": "code",
      "execution_count": null,
      "metadata": {
        "id": "IivncivmjWXB"
      },
      "outputs": [],
      "source": [
        "list_of_numbers[5] = 80 #replace 5th element with 80\n",
        "print(list_of_numbers)"
      ]
    },
    {
      "cell_type": "code",
      "execution_count": null,
      "metadata": {
        "id": "9OtN-JXyjcbW"
      },
      "outputs": [],
      "source": [
        "list_of_numbers"
      ]
    },
    {
      "cell_type": "code",
      "execution_count": null,
      "metadata": {
        "id": "bcVgbjZ2jynH"
      },
      "outputs": [],
      "source": [
        "list_of_numbers * 2 #repeat the list twice"
      ]
    },
    {
      "cell_type": "code",
      "execution_count": null,
      "metadata": {
        "id": "loE2uIkWj0UO"
      },
      "outputs": [],
      "source": [
        "'pranav' * 3"
      ]
    },
    {
      "cell_type": "code",
      "execution_count": null,
      "metadata": {
        "id": "R_vtP4Ltj7zC"
      },
      "outputs": [],
      "source": [
        "#snake case naming convention\n",
        "#new_number_list\n",
        "#camelCase - nameList\n",
        "new_list = [1, 4, 9, 16, 25, 80, 49, 64, 81, 100, 1, 4, 9, 16, 25, 80, 49, 64, 81, 100]\n",
        "new_list[0:4] = 'pranav'\n",
        "new_list[9:12] = [99,99,99] #replace position 9,10,11 in list new_list\n",
        "print(new_list)"
      ]
    },
    {
      "cell_type": "code",
      "execution_count": null,
      "metadata": {
        "id": "cmJ488KqksbQ"
      },
      "outputs": [],
      "source": [
        "new_list"
      ]
    },
    {
      "cell_type": "code",
      "execution_count": null,
      "metadata": {
        "id": "6-6hnBWZkuGb"
      },
      "outputs": [],
      "source": [
        "#save in variable and replace  first six elements with numbers\n",
        "new_list = ['p', 'r', 'a', 'n', 'a', 'v', 25, 80, 49, 99, 99, 99, 1, 4, 9, 16, 25, 80, 49, 64, 81, 100]\n",
        "#hint: new_list[9:12] = [99,99,99] #replace position 9,10,11 in list new_list\n",
        "new_list[0:6] = [1,2,3,4,5,6]\n",
        "print(new_list)"
      ]
    },
    {
      "cell_type": "code",
      "execution_count": null,
      "metadata": {
        "id": "fgBgZt5bn_ae"
      },
      "outputs": [],
      "source": [
        "a = 3\n",
        "a * 3\n",
        "a* 10 #last printed value"
      ]
    },
    {
      "cell_type": "code",
      "execution_count": null,
      "metadata": {
        "id": "QGE7ybi7occ3"
      },
      "outputs": [],
      "source": [
        "_ + 3 #underscore stores last printed value so here _ is 30"
      ]
    },
    {
      "cell_type": "code",
      "execution_count": null,
      "metadata": {
        "id": "BOAWPwQPodnV"
      },
      "outputs": [],
      "source": [
        "_ + 3 #underscore  _ is 33"
      ]
    },
    {
      "cell_type": "code",
      "execution_count": null,
      "metadata": {
        "id": "Ik3giqZ0oivy"
      },
      "outputs": [],
      "source": [
        "_ - 1000 #underscore  _ is 15"
      ]
    },
    {
      "cell_type": "code",
      "execution_count": null,
      "metadata": {
        "id": "C-A01R1kok26"
      },
      "outputs": [],
      "source": [
        "_ * 3.4444"
      ]
    },
    {
      "cell_type": "code",
      "execution_count": null,
      "metadata": {
        "id": "RD3FAfALo_Ni"
      },
      "outputs": [],
      "source": [
        "round(_, 3)"
      ]
    },
    {
      "cell_type": "code",
      "execution_count": null,
      "metadata": {
        "id": "x3VgXhWSpCkg"
      },
      "outputs": [],
      "source": [
        "round(_, 1)"
      ]
    },
    {
      "cell_type": "code",
      "execution_count": null,
      "metadata": {
        "id": "zBfjcyDfqX1h"
      },
      "outputs": [],
      "source": [
        "list_exercise = [1, 2, 3, 4, 5, 6, 25, 80, 49, 99, 99, 99, 1, 4, 9, 16, 25, 80, 49, 64, 81, 100]"
      ]
    },
    {
      "cell_type": "code",
      "execution_count": null,
      "metadata": {
        "id": "IL-x6yFtpGFd"
      },
      "outputs": [],
      "source": [
        "list_exercise.append(10000) #add at the end\n",
        "list_exercise.insert(0, 1000) #add at the beginning or at any position insert(position, value)\n",
        "print(list_exercise[0:len(list_exercise)])\n",
        "print(list_exercise[5:9])\n",
        "print(list_exercise[0: 10: 2]) #start : stop: step (jump)\n",
        "print(list_exercise[::2]) #start : stop: step (jump) - default values start - 0 , stop - last position, step - 1\n",
        "print(list_exercise[0:len(list_exercise):2]) #same as above\n",
        "print(list_exercise.sort()) # no return - # dot operator\n",
        "print(list_exercise) #with sort the list is sorted"
      ]
    },
    {
      "cell_type": "code",
      "execution_count": null,
      "metadata": {
        "id": "emwjNwQnq0Qd"
      },
      "outputs": [],
      "source": [
        "class_students = ['aadit',\n",
        "                  'anuja',\n",
        "                  'indrapal',\n",
        "                  'manish',\n",
        "                  'sachin',\n",
        "                  'hitesh',\n",
        "                  'priyanka',\n",
        "                  'nilima',\n",
        "                  'kshitij']\n",
        "\n",
        "print(class_students[0: 3]) #0,1,2\n",
        "print(class_students[0: 10: 2]) #start : stop : jump (step)\n",
        "print(class_students[0: 10: 3])\n",
        "print(class_students[0: 10: 4])\n",
        "print(class_students[0: 10: 1])"
      ]
    },
    {
      "cell_type": "code",
      "execution_count": null,
      "metadata": {
        "id": "yUD9QFlMs8YY"
      },
      "outputs": [],
      "source": [
        "for i in range(0, 10, 2):\n",
        "    print(i)\n",
        "\n",
        "for i in range(0, 10, 3):\n",
        "    print(i)\n",
        "\n",
        "for i in range(10, 27, 5):\n",
        "    print(i)"
      ]
    },
    {
      "cell_type": "code",
      "execution_count": null,
      "metadata": {
        "id": "V2sUCuhbuiLo"
      },
      "outputs": [],
      "source": [
        "#homework\n",
        "\n",
        "'''\n",
        "taking input from user and finding odd or even (prime or composite) (greater than 50 , equal to 50, less than 50)\n",
        "\n",
        "capitalize every second alphabet of string aaaaaaaaaaabbbbbbbbbbcccccccccc\n",
        "\n",
        "convert to upper or lower\n",
        "\n",
        "take a list of five numbers and calculate their square root and save in another list\n",
        "\n",
        "take ten names in list and capitalize alternate names and lower case the others\n",
        "\n",
        "take ten names in list and if first alphabet is 'a' then capitalize the entire name or else leave it as it is\n",
        "\n",
        "'''"
      ]
    }
  ],
  "metadata": {
    "colab": {
      "private_outputs": true,
      "provenance": []
    },
    "kernelspec": {
      "display_name": "Python 3",
      "name": "python3"
    },
    "language_info": {
      "name": "python"
    }
  },
  "nbformat": 4,
  "nbformat_minor": 0
}

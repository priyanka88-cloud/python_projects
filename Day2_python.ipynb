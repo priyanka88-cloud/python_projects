{
  "nbformat": 4,
  "nbformat_minor": 0,
  "metadata": {
    "colab": {
      "private_outputs": true,
      "provenance": []
    },
    "kernelspec": {
      "name": "python3",
      "display_name": "Python 3"
    },
    "language_info": {
      "name": "python"
    }
  },
  "cells": [
    {
      "cell_type": "code",
      "execution_count": null,
      "metadata": {
        "id": "7VVo4gwh17Uk"
      },
      "outputs": [],
      "source": [
        "2+3"
      ]
    },
    {
      "cell_type": "code",
      "source": [
        "4-7"
      ],
      "metadata": {
        "id": "4dzpwRjI2PW8"
      },
      "execution_count": null,
      "outputs": []
    },
    {
      "cell_type": "code",
      "source": [
        "#list of three names is stored in variable names\n",
        "names = ['ram', 'shyam', 'raju']"
      ],
      "metadata": {
        "id": "yhvzpreN2TFg"
      },
      "execution_count": null,
      "outputs": []
    },
    {
      "cell_type": "code",
      "source": [
        "names"
      ],
      "metadata": {
        "id": "mGXyIXMi2TNs"
      },
      "execution_count": null,
      "outputs": []
    },
    {
      "cell_type": "code",
      "source": [
        "fullnames = [['ram', 'shyam', 'raju'], ['shah', 'mehta', 'singh']]"
      ],
      "metadata": {
        "id": "8KhYmAJy2TgG"
      },
      "execution_count": null,
      "outputs": []
    },
    {
      "cell_type": "code",
      "source": [
        "#two dimension lists - list of lists\n",
        "fullnames"
      ],
      "metadata": {
        "id": "Op-FHmJMBNNG"
      },
      "execution_count": null,
      "outputs": []
    },
    {
      "cell_type": "code",
      "source": [
        "fullnames[0]"
      ],
      "metadata": {
        "id": "ozg4WGePBUch"
      },
      "execution_count": null,
      "outputs": []
    },
    {
      "cell_type": "code",
      "source": [
        "fullnames[1]"
      ],
      "metadata": {
        "id": "HUqL9eblBV_d"
      },
      "execution_count": null,
      "outputs": []
    },
    {
      "cell_type": "code",
      "source": [
        "fullnames[0][0]"
      ],
      "metadata": {
        "id": "hO8T5oS0BYod"
      },
      "execution_count": null,
      "outputs": []
    },
    {
      "cell_type": "code",
      "source": [
        "#tuple data structure allows data storage, manipulation (update/modify), retrieval\n",
        "t = (1, 2, 3)\n",
        "print(t)"
      ],
      "metadata": {
        "id": "JS6e6W9WCS-E"
      },
      "execution_count": null,
      "outputs": []
    },
    {
      "cell_type": "code",
      "source": [
        "t[0]"
      ],
      "metadata": {
        "id": "vgkAbQ5AClim"
      },
      "execution_count": null,
      "outputs": []
    },
    {
      "cell_type": "code",
      "source": [
        "t[0:2] #tuple_variable_name[start : stop] display elements index 0 and index 1 but not index 2"
      ],
      "metadata": {
        "id": "_3htzUHqCnk6"
      },
      "execution_count": null,
      "outputs": []
    },
    {
      "cell_type": "code",
      "source": [
        "t = ('ram', 'shyam', 'raju')\n",
        "first_name, second_name, third_name = t #tuple is having 'ram', 'shyam', 'raju' elements\n",
        "'''\n",
        "a = t[0]\n",
        "b = t[1]\n",
        "c = t[2]\n",
        "'''\n",
        "print(first_name, second_name, third_name)"
      ],
      "metadata": {
        "id": "DHkj5QsBCptM"
      },
      "execution_count": null,
      "outputs": []
    },
    {
      "cell_type": "code",
      "source": [
        "Names= ['Sriansh','Rahul']\n",
        "print (Names)\n",
        "Names[0][0] #Names is the list. In that list get the element index 0 and then get the element index 0 of the element index 0"
      ],
      "metadata": {
        "id": "LD-qMFmRCu32"
      },
      "execution_count": null,
      "outputs": []
    },
    {
      "cell_type": "code",
      "source": [
        "Names[0]"
      ],
      "metadata": {
        "id": "hIHjp97gFf0E"
      },
      "execution_count": null,
      "outputs": []
    },
    {
      "cell_type": "code",
      "source": [
        "Names[0][0]"
      ],
      "metadata": {
        "id": "d7RoBs6eFgu3"
      },
      "execution_count": null,
      "outputs": []
    },
    {
      "cell_type": "code",
      "source": [
        "#while loop\n",
        "\n",
        "i = 0 #initialization\n",
        "\n",
        "while i < 10: #stopping condition\n",
        "    print(i)  #execute action of displaying i using print() command  println(), cout\n",
        "    i = i + 1 #increment"
      ],
      "metadata": {
        "id": "wtHLfnITGBPl"
      },
      "execution_count": null,
      "outputs": []
    },
    {
      "cell_type": "code",
      "source": [],
      "metadata": {
        "id": "vrh8vprVIyc9"
      },
      "execution_count": null,
      "outputs": []
    },
    {
      "cell_type": "code",
      "source": [
        "#there is a list of names all students in our class . display the names one by one using while loop\n",
        "\n",
        "student_class = ['aadit', 'anuja', 'dristi' ,'indrapal', 'kshitij', 'hitesh', 'sachin', 'manish', 'nilima', 'priyanka']\n",
        "\n",
        "print('length of the list', len(student_class)) #10\n",
        "\n",
        "i = 0\n",
        "\n",
        "while i < len(student_class):\n",
        "    print(student_class[i])\n",
        "    i = i + 1 #i += 1 incrementing i one by one so i = 0,1,2,3 ... 9"
      ],
      "metadata": {
        "id": "SFTYfdypHUG8"
      },
      "execution_count": null,
      "outputs": []
    },
    {
      "cell_type": "code",
      "source": [
        "names=[\"priya\",\"anuja\",\"om\",\"sandip\",\"oorjeet\",\"ram\",\"ravi\",\"shyam\",\"riya\",\"radha\"]\n",
        "\n",
        "for i in range(len(names)): #range(10) - 0 to 9\n",
        "  print(names[i])\n",
        ""
      ],
      "metadata": {
        "id": "UX7QrwA6JcG4"
      },
      "execution_count": null,
      "outputs": []
    },
    {
      "cell_type": "code",
      "source": [
        "#take from user some positive number (<0) and display in reverse order till 0\n",
        "#user enters 3 then display 3,2,1,0\n",
        "#use while loop and not for loop\n",
        "\n",
        "\n",
        "number = input('Enter a positive number') #take input from user as string\n",
        "number = int(number) #int() command in python to convert from string to int (integer)\n",
        "\n",
        "while number >= 0: #stopping condition is number becomes less than 0 Ans number >= 0\n",
        "   print(number) #display number\n",
        "   number = number - 1 #decrement number by 1"
      ],
      "metadata": {
        "id": "TwdxghQxKaYX"
      },
      "execution_count": null,
      "outputs": []
    },
    {
      "cell_type": "code",
      "source": [
        "'anuja'"
      ],
      "metadata": {
        "id": "Iy0zbTSvQt4e"
      },
      "execution_count": null,
      "outputs": []
    },
    {
      "cell_type": "code",
      "source": [
        "\"anuja\""
      ],
      "metadata": {
        "id": "THRg2Bj-Q2Bo"
      },
      "execution_count": null,
      "outputs": []
    },
    {
      "cell_type": "code",
      "source": [
        "\"333\""
      ],
      "metadata": {
        "id": "iVG3KwCGQ332"
      },
      "execution_count": null,
      "outputs": []
    },
    {
      "cell_type": "code",
      "source": [
        "number = input('Enter a positive number')\n",
        "\n",
        "number = int(number)\n",
        "\n",
        "while number >= 0:\n",
        "    print(number)\n",
        "    number= number - 1"
      ],
      "metadata": {
        "id": "c_8hgPWPOw1B"
      },
      "execution_count": null,
      "outputs": []
    },
    {
      "cell_type": "code",
      "source": [
        "number = input('Enter a positive number')\n",
        "number = int(number)\n",
        "\n",
        "if number < 0:\n",
        "   print(\"Enter a positive number\")\n",
        "else:\n",
        "    while number >= 0:\n",
        "        print(number)\n",
        "        number = number - 1"
      ],
      "metadata": {
        "id": "MWRCy64EOS4A"
      },
      "execution_count": null,
      "outputs": []
    },
    {
      "cell_type": "code",
      "source": [
        "#dictionary\n",
        "#data structure - storing, modifying, retrieving\n",
        "\n",
        "# key : value\n",
        "\n",
        "class_students_data = {\n",
        "    'aadit': 'hire',\n",
        "    'anuja': 'japtap',\n",
        "     3: 'dristi',\n",
        "    'indrapal': 33,\n",
        "    '444': 'kshitij'\n",
        "}\n",
        "\n",
        "class_students_data"
      ],
      "metadata": {
        "id": "_D1Eknq3R-bd"
      },
      "execution_count": null,
      "outputs": []
    },
    {
      "cell_type": "code",
      "source": [
        "class_students_data['aadit']"
      ],
      "metadata": {
        "id": "HmeB8WE7Sw8m"
      },
      "execution_count": null,
      "outputs": []
    },
    {
      "cell_type": "code",
      "source": [
        "class_students_data['anuja']"
      ],
      "metadata": {
        "id": "P3qNX-NHS3eR"
      },
      "execution_count": null,
      "outputs": []
    },
    {
      "cell_type": "code",
      "source": [
        "class_students_data[3]"
      ],
      "metadata": {
        "id": "3X35XPCNTIjc"
      },
      "execution_count": null,
      "outputs": []
    },
    {
      "cell_type": "code",
      "source": [
        "class_students_data['444'] = 'hitesh'"
      ],
      "metadata": {
        "id": "sA04hVQnXh_j"
      },
      "execution_count": null,
      "outputs": []
    },
    {
      "cell_type": "code",
      "source": [
        "class_students_data"
      ],
      "metadata": {
        "id": "ESbVFFaDXtT5"
      },
      "execution_count": null,
      "outputs": []
    },
    {
      "cell_type": "code",
      "source": [
        "list(class_students_data)"
      ],
      "metadata": {
        "id": "pMGdbRhgXy98"
      },
      "execution_count": null,
      "outputs": []
    },
    {
      "cell_type": "code",
      "source": [
        "del class_students_data[3]"
      ],
      "metadata": {
        "id": "qv_RCvRrX3Po"
      },
      "execution_count": null,
      "outputs": []
    },
    {
      "cell_type": "code",
      "source": [
        "class_students_data"
      ],
      "metadata": {
        "id": "E6Lo2SaPX6Ae"
      },
      "execution_count": null,
      "outputs": []
    },
    {
      "cell_type": "code",
      "source": [
        "sorted(class_students_data)"
      ],
      "metadata": {
        "id": "eeMloO0WX9IR"
      },
      "execution_count": null,
      "outputs": []
    },
    {
      "cell_type": "code",
      "source": [
        "'aadit' in class_students_data"
      ],
      "metadata": {
        "id": "gyqUK-9XYAdh"
      },
      "execution_count": null,
      "outputs": []
    },
    {
      "cell_type": "code",
      "source": [
        "'rohan' in class_students_data"
      ],
      "metadata": {
        "collapsed": true,
        "id": "r6dprTH6YEhu"
      },
      "execution_count": null,
      "outputs": []
    },
    {
      "cell_type": "code",
      "source": [
        "print(class_students_data)"
      ],
      "metadata": {
        "id": "eMCG8ji9YIEj"
      },
      "execution_count": null,
      "outputs": []
    },
    {
      "cell_type": "code",
      "source": [
        "class_students_data.items()"
      ],
      "metadata": {
        "id": "h6KYSdIRbLse"
      },
      "execution_count": null,
      "outputs": []
    },
    {
      "cell_type": "code",
      "source": [
        "for key, value in class_students_data.items():\n",
        "    print(key, value)"
      ],
      "metadata": {
        "id": "2cRw3jndZBEJ"
      },
      "execution_count": null,
      "outputs": []
    },
    {
      "cell_type": "code",
      "source": [
        "for key in class_students_data:\n",
        "    print(key)"
      ],
      "metadata": {
        "id": "6lBdkVdxZjBR"
      },
      "execution_count": null,
      "outputs": []
    },
    {
      "cell_type": "code",
      "source": [
        "len(class_students_data)"
      ],
      "metadata": {
        "id": "ShxojiFIZyIT"
      },
      "execution_count": null,
      "outputs": []
    },
    {
      "cell_type": "code",
      "source": [
        "list_keys = list(class_students_data.keys()) #keys() gives dict_keys() which are all keys in the dictionary\n",
        "#list() we convert into list\n",
        "list_keys"
      ],
      "metadata": {
        "id": "cwkEv4tKch5N"
      },
      "execution_count": null,
      "outputs": []
    },
    {
      "cell_type": "code",
      "source": [
        "list_values = list(class_students_data.values()) #values() gives dict_values()\n",
        "\n",
        "#list() we convert into list\n",
        "list_values"
      ],
      "metadata": {
        "id": "DrEtcpEOclxx"
      },
      "execution_count": null,
      "outputs": []
    },
    {
      "cell_type": "code",
      "source": [
        "print('print length', len(class_students_data))\n",
        "print(class_students_data)\n",
        "sorted(class_students_data)\n",
        "reversed(class_students_data)"
      ],
      "metadata": {
        "id": "iz4bVdK-dbn8"
      },
      "execution_count": null,
      "outputs": []
    },
    {
      "cell_type": "code",
      "source": [
        "for i in range(len(class_students_data)): #len(class_students_data) = 4 so range(4) is 0,1,2,3\n",
        "\n",
        "    print(list_keys[i], list_values[i])"
      ],
      "metadata": {
        "id": "LTf8nA9gcAWf"
      },
      "execution_count": null,
      "outputs": []
    },
    {
      "cell_type": "code",
      "source": [
        "#definition , function, commands\n",
        "\n",
        "#inbuilt\n",
        "#print()\n",
        "#input()\n",
        "#type()\n",
        "#len()\n",
        "#sort()\n",
        "\n",
        "#creation of function\n",
        "def print_hello():\n",
        "    print('hello') #display hello on the computer\n"
      ],
      "metadata": {
        "id": "C3669ad1gMIq"
      },
      "execution_count": null,
      "outputs": []
    },
    {
      "cell_type": "code",
      "source": [
        "#execute the function\n",
        "print_hello()"
      ],
      "metadata": {
        "id": "Oh4ZcL9Sg5Ub"
      },
      "execution_count": null,
      "outputs": []
    },
    {
      "cell_type": "code",
      "source": [
        "print_hello()"
      ],
      "metadata": {
        "id": "MtwgTirmhWU9"
      },
      "execution_count": null,
      "outputs": []
    },
    {
      "cell_type": "code",
      "source": [
        "print_hello()"
      ],
      "metadata": {
        "id": "7eeaI2TnhXvB"
      },
      "execution_count": null,
      "outputs": []
    },
    {
      "cell_type": "code",
      "source": [
        "#write a function and display your name\n",
        "#any name give to the function\n",
        "#call/execute the function"
      ],
      "metadata": {
        "id": "F5gMUPiAiFbu"
      },
      "execution_count": null,
      "outputs": []
    },
    {
      "cell_type": "code",
      "source": [
        "def print_pranav():\n",
        "    print('pranav')"
      ],
      "metadata": {
        "id": "eYm6B_kXi-CJ"
      },
      "execution_count": null,
      "outputs": []
    },
    {
      "cell_type": "code",
      "source": [
        "print_pranav()"
      ],
      "metadata": {
        "id": "Relu_fxHjEOT"
      },
      "execution_count": null,
      "outputs": []
    },
    {
      "cell_type": "code",
      "source": [
        "def sum_numbers():\n",
        "    first_num = input('Enter first number') #input() data is stored in string format\n",
        "    second_num = input('Enter second number') #input() data is stored in string format\n",
        "\n",
        "    #Remember: string + string = concat . Example: \"abc\" + \"def\" = \"abcdef\". 1+2 =3\n",
        "    total = int(first_num) + int(second_num) #int() converts from string to int\n",
        "    print(total)"
      ],
      "metadata": {
        "id": "Xxuh_vpVj30m"
      },
      "execution_count": null,
      "outputs": []
    },
    {
      "cell_type": "code",
      "source": [
        "sum_numbers()"
      ],
      "metadata": {
        "id": "kjFXRe1LkN7T"
      },
      "execution_count": null,
      "outputs": []
    },
    {
      "cell_type": "code",
      "source": [
        "#multiply, divide, subtraction\n",
        "\n",
        "def subtraction():\n",
        "  first_number=input(\"enter first number\")\n",
        "  second_number=input(\"enter second number\")\n",
        "  total=int(first_number)-int(second_number)\n",
        "  print(total)\n",
        "\n",
        "def multiply():\n",
        "  first_number=input(\"enter first number\")\n",
        "  second_number=input(\"enter second number\")\n",
        "  total=int(first_number)*int(second_number)\n",
        "  print(total)\n",
        "\n",
        "def division():\n",
        "  first_number=input(\"enter first number\")\n",
        "  second_number=input(\"enter second number\")\n",
        "  total=int(first_number)//int(second_number)\n",
        "  print(total)"
      ],
      "metadata": {
        "id": "jIzlJIhWlVuo"
      },
      "execution_count": null,
      "outputs": []
    },
    {
      "cell_type": "code",
      "source": [
        "division()\n",
        "subtraction()\n",
        "multiply()"
      ],
      "metadata": {
        "id": "pqJvg2lqos69"
      },
      "execution_count": null,
      "outputs": []
    },
    {
      "cell_type": "code",
      "source": [
        "def print_name(a):\n",
        "    print(a)\n",
        "\n",
        "print_name() #error"
      ],
      "metadata": {
        "id": "7otKvbqQpDEc"
      },
      "execution_count": null,
      "outputs": []
    },
    {
      "cell_type": "code",
      "source": [
        "print_name(2) #passing argument/input to the function call/execution"
      ],
      "metadata": {
        "id": "7HysJ7oApNhJ"
      },
      "execution_count": null,
      "outputs": []
    },
    {
      "cell_type": "code",
      "source": [
        "print_name('ram')"
      ],
      "metadata": {
        "id": "S6L_9rdEpV4E"
      },
      "execution_count": null,
      "outputs": []
    },
    {
      "cell_type": "code",
      "source": [
        "name = 'sachin'\n",
        "print_name(name)"
      ],
      "metadata": {
        "id": "cUFx1P4OpXod"
      },
      "execution_count": null,
      "outputs": []
    },
    {
      "cell_type": "code",
      "source": [
        "def print_name(a, b):\n",
        "    print(a, b)\n",
        "\n",
        "print('ram', 'shyam')\n",
        "print(1,2)"
      ],
      "metadata": {
        "id": "HCWf9XUepcJj"
      },
      "execution_count": null,
      "outputs": []
    },
    {
      "cell_type": "code",
      "source": [
        "print_name(1,2,3) #error mismatch in arguments or inputs passed to the function"
      ],
      "metadata": {
        "id": "NdgkljTMqf6p"
      },
      "execution_count": null,
      "outputs": []
    },
    {
      "cell_type": "code",
      "source": [],
      "metadata": {
        "id": "TmhLQxLOqhn3"
      },
      "execution_count": null,
      "outputs": []
    }
  ]
}
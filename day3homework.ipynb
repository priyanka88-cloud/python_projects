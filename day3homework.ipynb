{
  "cells": [
    {
      "cell_type": "code",
      "execution_count": null,
      "metadata": {
        "id": "cDcGyeXW5Xex"
      },
      "outputs": [],
      "source": [
        "#take from user an input either rock, paper, scissor or 0\n",
        "#if user enters any other input then tell to try again\n",
        "#if user enters 0 then exit\n",
        "#if user enters any one of rock, paper, scissor then take random input from computer\n",
        "#and play rock-paper-scissor game (rock - paper : paper wins) (rock and scissor - rock wins) (paper and scissor - scissor wins)\n",
        "#hint: for infinite loop use while True\n",
        "#hint: if user enters 0 then break\n",
        "#hint: if elif else (to create the game)"
      ]
    },
    {
      "cell_type": "code",
      "execution_count": null,
      "metadata": {
        "colab": {
          "base_uri": "https://localhost:8080/"
        },
        "id": "Fll_9t2H5rWx",
        "outputId": "fe00993d-4387-42a7-eda7-14acc780d076"
      },
      "outputs": [
        {
          "output_type": "stream",
          "name": "stdout",
          "text": [
            "enter rock, paper or scissor or 0: scissor\n",
            "paper\n",
            "scissor wins\n"
          ]
        }
      ],
      "source": [
        "\n",
        "user_choice=input(\"enter rock, paper or scissor or 0: \")\n",
        "import random\n",
        "computer_choice=random.choice([\"rock\",\"paper\",\"scissor\"])\n",
        "print(computer_choice)\n",
        "if computer_choice==user_choice:\n",
        "  print(\"game tie\")\n",
        "elif computer_choice==\"rock\" and user_choice==\"paper\":\n",
        "  print(\"paper wins\")\n",
        "elif computer_choice==\"rock\" and user_choice==\"scissor\":\n",
        "  print(\"rock wins\")\n",
        "elif computer_choice==\"paper\" and user_choice==\"scissor\":\n",
        "  print(\"scissor wins\")\n",
        "\n"
      ]
    },
    {
      "cell_type": "code",
      "execution_count": null,
      "metadata": {
        "id": "vEF6a0wa6KMa"
      },
      "outputs": [],
      "source": [
        "#take five questions each has two options\n",
        "#user will answer correctly then give +1 display a message you are right\n",
        "#user will answer incorrectly then give 0 display a message you chose this option but correct was this option\n",
        "#after five questions are over ask user try again or exit (display the total marks obtained in quiz)"
      ]
    },
    {
      "cell_type": "code",
      "source": [
        "marks=0\n",
        "def quiz():\n",
        " question1=input('what is the capital of india?')\n",
        " question2=input('who is prime minister of India')\n",
        " question3=input('which is largest planet in solar system')\n",
        " question4=input('which is blue planet in solar system')\n",
        " question5=input('which is smallest planet in solar system')\n",
        " if question1=='delhi':\n",
        "  global marks\n",
        "  marks+=1\n",
        "  print(f\"marks:{marks}\")\n",
        "  print('you are right')\n",
        " else:\n",
        "  print(f\"u choose {question1} but correct was Delhi\")\n",
        "\n",
        "quiz()\n",
        "\n"
      ],
      "metadata": {
        "colab": {
          "base_uri": "https://localhost:8080/"
        },
        "id": "eKovbbgp2LjI",
        "outputId": "abd8e3c9-590c-4e4b-d265-1ae7ad13c503"
      },
      "execution_count": 32,
      "outputs": [
        {
          "output_type": "stream",
          "name": "stdout",
          "text": [
            "what is the capital of india?delhi\n",
            "who is prime minister of Indiamodiji\n",
            "which is largest planet in solar systemjupitor\n",
            "which is blue planet in solar systemearth\n",
            "which is smallest planet in solar systemsaturn\n",
            "marks:1\n",
            "you are right\n"
          ]
        }
      ]
    },
    {
      "cell_type": "code",
      "execution_count": 33,
      "metadata": {
        "colab": {
          "base_uri": "https://localhost:8080/"
        },
        "id": "7AL8mLceamu0",
        "outputId": "ea3250ad-15fd-4aa7-8069-e493d0fa9435"
      },
      "outputs": [
        {
          "output_type": "execute_result",
          "data": {
            "text/plain": [
              "{'Bumrah',\n",
              " 'Dinesh Kartik',\n",
              " 'KL Rahul',\n",
              " 'M.S.Dhoni',\n",
              " 'Rishabh Pant',\n",
              " 'Rohit Sharma',\n",
              " 'SuryaKumar Yadav',\n",
              " 'Virat Kohli'}"
            ]
          },
          "metadata": {},
          "execution_count": 33
        }
      ],
      "source": [
        "#Find out the common players in Team india cricket team in 2023 and 2019 world cup\n",
        "#find out which players were in 2019 but not in 2024\n",
        "#find out players were in 2024 but not in 2019\n",
        "#find out all players who played the two previous world cups\n",
        "#Hint: Use sets\n",
        "team_india_2024=set(['Rohit Sharma','Virat Kohli','Bumrah','SuryaKumar Yadav','Rishabh Pant'])\n",
        "team_india_2019=set(['M.S.Dhoni','Dinesh Kartik','KL Rahul','Rohit Sharma','Virat Kohli'])\n",
        "team_india_2019 | team_india_2024\n"
      ]
    },
    {
      "cell_type": "code",
      "execution_count": 34,
      "metadata": {
        "colab": {
          "base_uri": "https://localhost:8080/"
        },
        "id": "55w4PtsWCwM-",
        "outputId": "4ef78139-f4db-483c-8df2-fd5926fdcf8f"
      },
      "outputs": [
        {
          "output_type": "execute_result",
          "data": {
            "text/plain": [
              "{'Dinesh Kartik', 'KL Rahul', 'M.S.Dhoni'}"
            ]
          },
          "metadata": {},
          "execution_count": 34
        }
      ],
      "source": [
        " team_india_2019-team_india_2024"
      ]
    },
    {
      "cell_type": "code",
      "execution_count": 35,
      "metadata": {
        "colab": {
          "base_uri": "https://localhost:8080/"
        },
        "id": "9u_SsSameJht",
        "outputId": "9703baf1-5961-468f-ba80-36b81d0d8f77"
      },
      "outputs": [
        {
          "output_type": "execute_result",
          "data": {
            "text/plain": [
              "{'Bumrah', 'Rishabh Pant', 'SuryaKumar Yadav'}"
            ]
          },
          "metadata": {},
          "execution_count": 35
        }
      ],
      "source": [
        "team_india_2024-team_india_2019"
      ]
    },
    {
      "cell_type": "code",
      "execution_count": 36,
      "metadata": {
        "colab": {
          "base_uri": "https://localhost:8080/"
        },
        "id": "k1DcSOv6-1A2",
        "outputId": "cf45af28-9ac2-44b9-9d2d-ad637b6a5363"
      },
      "outputs": [
        {
          "output_type": "stream",
          "name": "stdout",
          "text": [
            "name:priya,age:35,marks:56\n",
            "name:om,age:32,marks:89\n",
            "name:sandip,age:36,marks:85\n",
            "name:riya,age:29,marks:12\n",
            "student2 is highest\n",
            "60.5\n"
          ]
        }
      ],
      "source": [
        "'''''\n",
        "Create on class Student with name, age, marks\n",
        "for four students give data\n",
        "compare and find highest marks, lowest marks\n",
        "what is the average marks\n",
        "what is average age of student\n",
        "'''\n",
        "class Student:\n",
        "  def __init__(self,name,age,marks):\n",
        "    self.name=name\n",
        "    self.age=age\n",
        "    self.marks=marks\n",
        "\n",
        "  def get_info(self):\n",
        "\n",
        "    print( f\"name:{self.name},age:{self.age},marks:{self.marks}\")\n",
        "\n",
        "  def compare_marks():\n",
        "    if student1.marks>student2.marks:\n",
        "      print(\"student1 is highest\")\n",
        "    elif student1.marks<student2.marks:\n",
        "      print(\"student2 is highest\")\n",
        "    else:\n",
        "      print(\"student 3 is highest\")\n",
        "  def average_marks():\n",
        "      print((student1.marks+student2.marks+student3.marks+student4.marks)/4)\n",
        "\n",
        "student1=Student('priya',35,56)\n",
        "student2=Student('om',32,89)\n",
        "student3=Student('sandip',36,85)\n",
        "student4=Student('riya',29,12)\n",
        "\n",
        "student1.get_info()\n",
        "student2.get_info()\n",
        "student3.get_info()\n",
        "student4.get_info()\n",
        "obj=Student.compare_marks()\n",
        "obj1=Student.average_marks()\n"
      ]
    },
    {
      "cell_type": "code",
      "source": [
        "#You ask the user to choose from one option for source and destination 'euro', 'dollar', 'rupee'\n",
        "#then ask user to enter quantity in numbers\n",
        "#ex- dollar to rupee and 10\n",
        "#so 10dollars is 830 rupees\n",
        "#prevent invalid inputs, allow user to continue till exit\n",
        "\n",
        "source=input(\"source:=enter euro,dollar or rupee : \")\n",
        "destination=input(\"destination:=enter euro,dollar or rupee: \")\n",
        "amount=float(input(\"enter amount: \"))\n",
        "if source=='dollar':\n",
        " rupee=amount*83.73\n",
        " print(f\"Rupee:{rupee}\")\n",
        "elif source=='euro':\n",
        " rupee=amount*91.16\n",
        " print(f\"Rupee:{rupee}\")\n",
        "elif source=='rupee':\n",
        " dollar=amount/83.73\n",
        " print(f\"Dollar:{dollar}\")\n",
        "else:\n",
        " print(\"invalid input\")\n",
        "\n"
      ],
      "metadata": {
        "colab": {
          "base_uri": "https://localhost:8080/"
        },
        "id": "ZOXHTeqxtop_",
        "outputId": "2cd5c768-774d-4b9c-8499-a5e956e44579"
      },
      "execution_count": 19,
      "outputs": [
        {
          "output_type": "stream",
          "name": "stdout",
          "text": [
            "source:=enter euro,dollar or rupee : rupee\n",
            "destination:=enter euro,dollar or rupee: dollar\n",
            "enter amount: 1\n",
            "Dollar:0.011943150603129105\n"
          ]
        }
      ]
    },
    {
      "cell_type": "code",
      "source": [],
      "metadata": {
        "id": "rY7DB9jLwWZK"
      },
      "execution_count": 19,
      "outputs": []
    }
  ],
  "metadata": {
    "colab": {
      "provenance": []
    },
    "kernelspec": {
      "display_name": "Python 3",
      "name": "python3"
    },
    "language_info": {
      "name": "python"
    }
  },
  "nbformat": 4,
  "nbformat_minor": 0
}